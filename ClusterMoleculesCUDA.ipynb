{
 "cells": [
  {
   "cell_type": "code",
   "execution_count": 1,
   "metadata": {},
   "outputs": [],
   "source": [
    "import cupy\n",
    "import cugraph\n",
    "import cuml\n",
    "import cudf\n",
    "import numpy as np\n",
    "from cuml.neighbors import NearestNeighbors\n",
    "from cuml import TruncatedSVD, PCA, GaussianRandomProjection, SparseRandomProjection\n",
    "from cuml import UMAP, TSNE\n",
    "import time\n",
    "import matplotlib.pyplot as plt\n",
    "from sklearn.metrics.cluster import silhouette_score"
   ]
  },
  {
   "cell_type": "code",
   "execution_count": 2,
   "metadata": {},
   "outputs": [],
   "source": [
    "def compute_embedding(fingerprints_file):\n",
    "    fp = cupy.load(fingerprints_file, allow_pickle=True)\n",
    "    fp = fp.astype('float32')\n",
    "    model = TruncatedSVD(n_components=2)\n",
    "    model.fit(fp)\n",
    "    return model.transform(fp)"
   ]
  },
  {
   "cell_type": "code",
   "execution_count": 3,
   "metadata": {},
   "outputs": [],
   "source": [
    "def compute_clusters_kmeans(embedding):\n",
    "    model = cuml.KMeans()\n",
    "    model.fit(embedding)\n",
    "    return model.predict(embedding)"
   ]
  },
  {
   "cell_type": "code",
   "execution_count": 4,
   "metadata": {},
   "outputs": [],
   "source": [
    "def compute_neighbors_graph(embedding, n_neighbors=30):\n",
    "    model = NearestNeighbors(n_neighbors=n_neighbors, output_type=\"input\")\n",
    "    model.fit(embedding)\n",
    "    graph = model.kneighbors_graph(X=cupy.asarray(embedding), n_neighbors=n_neighbors, mode='connectivity') \n",
    "    return graph"
   ]
  },
  {
   "cell_type": "code",
   "execution_count": 5,
   "metadata": {},
   "outputs": [],
   "source": [
    "def compute_leiden(graph):\n",
    "    graph = graph.tocoo()\n",
    "    edge_list = cudf.DataFrame({'row':graph.row, 'col':graph.col})\n",
    "    G = cugraph.Graph()\n",
    "    G.from_cudf_edgelist(edge_list, 'row', 'col')\n",
    "    parts, modularity_score = cugraph.leiden(G, resolution=1.0)\n",
    "    leiden_clusters = parts.sort_values('vertex')['partition']\n",
    "    return leiden_clusters"
   ]
  },
  {
   "cell_type": "code",
   "execution_count": 6,
   "metadata": {},
   "outputs": [],
   "source": [
    "def compute_umap(embedding):\n",
    "    model = UMAP(output_type='numpy', n_neighbors=200)\n",
    "    model.fit(embedding)\n",
    "    return model.fit_transform(embedding)"
   ]
  },
  {
   "cell_type": "code",
   "execution_count": 7,
   "metadata": {},
   "outputs": [],
   "source": [
    "def compute_tsne(embedding):\n",
    "    model = TSNE(output_type='numpy', perplexity=30, n_neighbors=1000)\n",
    "    return model.fit_transform(embedding)"
   ]
  },
  {
   "cell_type": "code",
   "execution_count": 13,
   "metadata": {},
   "outputs": [],
   "source": [
    "def batched_silhouette(embedding, clusters):\n",
    "    rand_idxs = np.array(list(range(0,len(embedding))))\n",
    "    np.random.shuffle(rand_idxs)\n",
    "    embedding = cupy.asnumpy(embedding)[rand_idxs]\n",
    "    clusters = cupy.asnumpy(clusters)[rand_idxs]\n",
    "    scores = []\n",
    "    batch_size = 5000\n",
    "    for i in range(0, len(embedding), batch_size):\n",
    "        score = silhouette_score(embedding[i:i+batch_size], clusters[i:i+batch_size])\n",
    "        print(score)\n",
    "        scores.append(score)\n",
    "    return np.mean(scores)"
   ]
  },
  {
   "cell_type": "code",
   "execution_count": 9,
   "metadata": {},
   "outputs": [],
   "source": [
    "def plot_molecules(embedding, clusters):\n",
    "    ax = plt.axes()\n",
    "    embedding = cupy.asnumpy(embedding)\n",
    "    clusters = cupy.asnumpy(clusters)\n",
    "    ax.scatter(embedding[:,0], embedding[:,1], c=clusters)\n",
    "    plt.show()"
   ]
  },
  {
   "cell_type": "code",
   "execution_count": 10,
   "metadata": {},
   "outputs": [],
   "source": [
    "def run_pipeline_graph(fingerprints_file):\n",
    "    start = time.time()\n",
    "    embedding = compute_embedding(fingerprints_file)\n",
    "    print(\"Computing embedding with TruncatedSVD took \" + str(time.time()-start) + \" seconds\")\n",
    "    start = time.time()\n",
    "    graph = compute_neighbors_graph(embedding)\n",
    "    print(\"Computing neighbors graph took \" + str(time.time()-start) + \" seconds\")\n",
    "    start = time.time()\n",
    "    clusters = compute_leiden(graph)\n",
    "    print(\"Computing leiden clusters took \" + str(time.time()-start) + \" seconds\")\n",
    "    start = time.time()\n",
    "    manifold_embedding = compute_umap(embedding)\n",
    "    print(\"Computing Manifold embedding took \" + str(time.time()-start) + \" seconds\")\n",
    "    start = time.time()\n",
    "    plot_molecules(embedding, clusters)\n",
    "    print(\"Plotting took \" + str(time.time()-start) + \" seconds\")\n",
    "    silhouette = batched_silhouette(embedding, clusters)\n",
    "    print(\"Average silhouette score: \" + str(silhouette))"
   ]
  },
  {
   "cell_type": "code",
   "execution_count": 11,
   "metadata": {},
   "outputs": [],
   "source": [
    "def run_pipeline_kmeans(fingerprints_file):\n",
    "    start = time.time()\n",
    "    embedding = compute_embedding(fingerprints_file)\n",
    "    print(\"Computing embedding with TruncatedSVD took \" + str(time.time()-start) + \" seconds\")\n",
    "    start = time.time()\n",
    "    clusters = compute_clusters_kmeans(embedding)\n",
    "    print(\"Computing KMeans clusters took \" + str(time.time()-start) + \" seconds\")\n",
    "    start = time.time()\n",
    "    plot_molecules(embedding, clusters)\n",
    "    print(\"Plotting took \" + str(time.time()-start) + \" seconds\")\n",
    "    silhouette = batched_silhouette(embedding, clusters)\n",
    "    print(\"Average silhouette score: \" + str(silhouette))"
   ]
  },
  {
   "cell_type": "code",
   "execution_count": 15,
   "metadata": {},
   "outputs": [
    {
     "name": "stdout",
     "output_type": "stream",
     "text": [
      "Computing embedding with TruncatedSVD took 1.3186371326446533 seconds\n",
      "Computing KMeans clusters took 0.2255840301513672 seconds\n"
     ]
    },
    {
     "data": {
      "image/png": "[encoded data removed]",
      "text/plain": [
       "<Figure size 432x288 with 1 Axes>"
      ]
     },
     "metadata": {
      "needs_background": "light"
     },
     "output_type": "display_data"
    },
    {
     "name": "stdout",
     "output_type": "stream",
     "text": [
      "Plotting took 6.725153207778931 seconds\n",
      "0.3222595\n",
      "0.32098165\n",
      "0.31829354\n",
      "0.32378995\n",
      "0.32213604\n",
      "0.32332084\n",
      "0.3198868\n",
      "0.31779566\n",
      "0.32184842\n",
      "0.322684\n",
      "0.32602504\n",
      "0.32157466\n",
      "0.32657456\n",
      "0.3175338\n",
      "0.3181958\n",
      "0.3224581\n",
      "0.31928927\n",
      "0.3253192\n",
      "0.32156754\n",
      "0.32174522\n",
      "0.31998378\n",
      "0.31827572\n",
      "0.32647607\n",
      "0.31867218\n",
      "0.3237559\n",
      "0.32337174\n",
      "0.32168612\n",
      "0.31583068\n",
      "0.3206426\n",
      "0.31596652\n",
      "0.31866813\n",
      "0.32263988\n",
      "0.32615378\n",
      "0.32232803\n",
      "0.32490873\n",
      "0.3159812\n",
      "0.31967026\n",
      "0.3277647\n",
      "0.32420856\n",
      "0.32433662\n",
      "0.32297048\n",
      "0.3217605\n",
      "0.32509622\n",
      "0.32016024\n",
      "0.31978106\n",
      "0.32250363\n",
      "0.31991947\n",
      "0.3235743\n",
      "0.32023588\n",
      "0.3305561\n",
      "0.32205072\n",
      "0.32059088\n",
      "0.31886753\n",
      "0.32253465\n",
      "0.321513\n",
      "0.32483804\n",
      "0.32423827\n",
      "0.32439628\n",
      "0.3233754\n",
      "0.32465592\n",
      "0.32400373\n",
      "0.32264876\n",
      "0.3204102\n",
      "0.3237188\n",
      "0.31920955\n",
      "0.32543686\n",
      "0.32421517\n",
      "0.32188514\n",
      "0.32401675\n",
      "0.3258507\n",
      "0.32734698\n",
      "0.32212573\n",
      "0.32704127\n",
      "0.31790566\n",
      "0.32219702\n",
      "0.3231056\n",
      "0.31615233\n",
      "0.3214093\n",
      "0.32244903\n",
      "0.32295597\n",
      "0.31585565\n",
      "0.3229595\n",
      "0.32384703\n",
      "0.31969061\n",
      "0.32836205\n",
      "0.31906998\n",
      "0.31707528\n",
      "0.3191542\n",
      "0.31921363\n",
      "0.31664106\n",
      "0.32451499\n",
      "0.3149836\n",
      "0.32414043\n",
      "0.31901303\n",
      "0.32259053\n",
      "0.32393113\n",
      "0.32245556\n",
      "0.3153161\n",
      "0.32186848\n",
      "0.32258052\n",
      "Average silhouette score: 0.3218557\n"
     ]
    }
   ],
   "source": [
    "run_pipeline_kmeans(\"ecfp.pkl\")"
   ]
  },
  {
   "cell_type": "code",
   "execution_count": null,
   "metadata": {},
   "outputs": [],
   "source": []
  }
 ],
 "metadata": {
  "kernelspec": {
   "display_name": "Python 3",
   "language": "python",
   "name": "python3"
  },
  "language_info": {
   "codemirror_mode": {
    "name": "ipython",
    "version": 3
   },
   "file_extension": ".py",
   "mimetype": "text/x-python",
   "name": "python",
   "nbconvert_exporter": "python",
   "pygments_lexer": "ipython3",
   "version": "3.7.9"
  }
 },
 "nbformat": 4,
 "nbformat_minor": 4
}

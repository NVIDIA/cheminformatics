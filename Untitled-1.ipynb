{
 "cells": [
  {
   "cell_type": "code",
   "execution_count": 1,
   "metadata": {},
   "outputs": [],
   "source": [
    "import pandas as pd\n",
    "import matplotlib.pyplot as plt\n",
    "import os\n",
    "import math\n",
    "import numpy as np\n",
    "from datetime import datetime\n",
    "import matplotlib.dates as mdates\n",
    "import seaborn as sns\n",
    "from benchmark.cuchembench.plot.data import PHYSCHEM_UNIT_RENAMER, MEGAMOLBART_SAMPLE_RADIUS, load_aggregated_metric_results, make_aggregated_embedding_df\n",
    "from benchmark.cuchembench.plot.utils import _label_bars, ACCEPTANCE_CRITERIA"
   ]
  },
  {
   "cell_type": "code",
   "execution_count": 2,
   "metadata": {},
   "outputs": [],
   "source": []
  },
  {
   "cell_type": "code",
   "execution_count": 3,
   "metadata": {
    "jupyter": {
     "source_hidden": true
    }
   },
   "outputs": [],
   "source": [
    "def create_multimodel_aggregated_plots():\n",
    "    \"\"\"Create all aggregated plots for sampling and embedding metrics\"\"\"\n",
    "    \n",
    "    # metric_df = load_aggregated_metric_results(metric_paths=metric_paths, metric_labels=metric_labels, homogenize_timestamp=True)\n",
    "    # embedding_df = make_aggregated_embedding_df(metric_df)\n",
    "    metric_df = pd.read_pickle('metric_df.pkl')\n",
    "    embedding_df = pd.read_pickle('embedding_df.pkl')\n",
    "\n",
    "    sns.set_palette('dark')\n",
    "    pal = sns.color_palette()\n",
    "    sns.set_palette([pal[0]] + pal[2:])\n",
    "    sns.set_style('whitegrid', {'axes.edgecolor': 'black', 'axes.linewidth': 1.5})\n",
    "\n",
    "    ncols, nrows = 3, 2\n",
    "    fig = plt.figure(figsize=(ncols*4, nrows*4))\n",
    "    axlist0 = [plt.subplot2grid((nrows, ncols), (0, x)) for x in range(0, 3)]\n",
    "    # axlist1 = [plt.subplot2grid((nrows, ncols), (1, 0))]\n",
    "    # axlist2 = [plt.subplot2grid((nrows, ncols), (1, 1))]\n",
    "    # axlist3 = [plt.subplot2grid((nrows, ncols), (1, 2))]\n",
    "\n",
    "    make_multimodel_sampling_plots(metric_df, axlist0)\n",
    "    # make_multimodel_nearest_neighbor_plot(embedding_df, axlist1)\n",
    "    # make_multimodel_physchem_plots(embedding_df, axlist2)\n",
    "    # make_multimodel_bioactivity_plots(embedding_df, axlist3)\n",
    "\n",
    "    # plt.tight_layout()\n",
    "    # fig.savefig(os.path.join(plot_dir, 'Timeseries_Benchmark_Metrics.png'), dpi=300)\n",
    "    return"
   ]
  },
  {
   "cell_type": "code",
   "execution_count": 4,
   "metadata": {
    "jupyter": {
     "source_hidden": true
    }
   },
   "outputs": [],
   "source": [
    "def make_multimodel_sampling_plots(metric_df, axlist):\n",
    "    \"\"\"Make aggregate plots for validity, uniqueness, novelty --\n",
    "       will be bar chart for single date or timeseries for multiple\"\"\"\n",
    "\n",
    "    # Select data\n",
    "    generative_mask = metric_df['name'].isin(['validity', 'unique', 'novelty'])\n",
    "    generative_df = metric_df[generative_mask].dropna(axis=1, how='all')\n",
    "\n",
    "    # Set sort order by using a categorical\n",
    "    cat = pd.CategoricalDtype(['validity', 'novelty', 'unique'], ordered=True)\n",
    "    generative_df['name'] = generative_df['name'].astype(cat)\n",
    "\n",
    "    grouper = generative_df.groupby('name')\n",
    "    timestamp_lim = (metric_df['timestamp'].min() - 1, metric_df['timestamp'].max() + 1)\n",
    "\n",
    "    for ax, (metric, dat) in zip(axlist, grouper):\n",
    "        ax2 = ax.twiny()\n",
    "\n",
    "        if not isinstance(dat, pd.DataFrame):\n",
    "            dat = dat.to_frame()\n",
    "\n",
    "        is_first_col = True if ax is axlist[0] else False\n",
    "\n",
    "        if metric in ACCEPTANCE_CRITERIA:\n",
    "            ax.axhline(y=ACCEPTANCE_CRITERIA[metric], xmin=0, xmax=1, color='red', lw=1.0, zorder=-1)\n",
    "\n",
    "        # Bar plot data\n",
    "        # bar_dat = get_constant_inferrers(dat, group_col='radius')\n",
    "        # bar_dat = bar_dat.pivot(columns='radius', values='value', index='inferrer')\n",
    "        # bar_dat.plot(kind='bar', ax=ax, rot=0, legend=is_first_col)\n",
    "\n",
    "        # Line plot data\n",
    "        ts_dat = get_timeseries_inferrers(dat)\n",
    "        ts_dat = ts_dat.pivot(columns='inferrer', values='value', index='timestamp')\n",
    "        ts_dat.plot(kind='line', marker='o', ax=ax2, legend=is_first_col)\n",
    "\n",
    "        ax.set_ylim(0, 1.1)\n",
    "        # ax.set_xlim(*timestamp_lim) # TODO FIX ME\n",
    "        ax.set(title=f'Sampling: \\n{metric.title()}', xlabel='Model (Timeseries Benchmark)', ylabel='Ratio')\n",
    "        \n",
    "\n",
    "metric_df = pd.read_pickle('metric_df.pkl')\n",
    "embedding_df = pd.read_pickle('embedding_df.pkl')\n",
    "\n",
    "# ncols, nrows = 3, 2\n",
    "# fig = plt.figure(figsize=(ncols*4, nrows*4))\n",
    "# axlist0 = [plt.subplot2grid((nrows, ncols), (0, x)) for x in range(0, 3)]\n",
    "\n",
    "# make_multimodel_sampling_plots(metric_df, axlist0)"
   ]
  },
  {
   "cell_type": "code",
   "execution_count": 34,
   "metadata": {},
   "outputs": [
    {
     "name": "stdout",
     "output_type": "stream",
     "text": [
      "                         value\n",
      "inferrer                      \n",
      "CDDD                  0.899857\n",
      "MegaMolBART-NeMo1.10  0.916700\n",
      "MegaMolBART-NeMo1.2   0.993875\n",
      "                         value\n",
      "inferrer                      \n",
      "CDDD                  0.995151\n",
      "MegaMolBART-NeMo1.10  0.999782\n",
      "MegaMolBART-NeMo1.2   0.980375\n",
      "                         value\n",
      "inferrer                      \n",
      "CDDD                  0.954314\n",
      "MegaMolBART-NeMo1.10  0.177682\n",
      "MegaMolBART-NeMo1.2   0.159203\n"
     ]
    },
    {
     "data": {
      "image/png": "[encoded data removed]",
      "text/plain": [
       "<Figure size 864x576 with 3 Axes>"
      ]
     },
     "metadata": {
      "needs_background": "light"
     },
     "output_type": "display_data"
    }
   ],
   "source": [
    "# def get_constant_inferrers(dat, group_col):\n",
    "#     mask = dat['inferrer'].str.contains('MegaMolBART').pipe(np.invert)\n",
    "#     constant_dat = dat[mask]\n",
    "#     idx = constant_dat.groupby(['inferrer', group_col])['timestamp'].idxmax()\n",
    "#     constant_dat = constant_dat.loc[idx]\n",
    "#     return constant_dat\n",
    "\n",
    "MEGAMOLBART_SAMPLE_RADIUS = {'xsmall': (1.0, 1.0),\n",
    "                             'small':  (0.70, 0.75)} \n",
    "\n",
    "def prune_megamolbart_radii(dat):\n",
    "    mask = dat['inferrer'].str.contains('MegaMolBART')\n",
    "    dat = dat[mask]\n",
    "    \n",
    "    filter_func = lambda x: (x['radius'] >= MEGAMOLBART_SAMPLE_RADIUS[x['model_size']][0]) & (x['radius'] <= MEGAMOLBART_SAMPLE_RADIUS[x['model_size']][1])\n",
    "    model_size_mask = dat.apply(filter_func, axis=1)\n",
    "    dat = dat.loc[model_size_mask]\n",
    "    return dat\n",
    "\n",
    "def prune_models(dat):\n",
    "    mask = dat['inferrer'].str.contains('MegaMolBART').pipe(np.invert)\n",
    "    other_dat = dat[mask]\n",
    "    \n",
    "    megamolbart_dat = prune_megamolbart_radii(dat)\n",
    "    return pd.concat([megamolbart_dat, other_dat], axis=0).reset_index(drop=True)\n",
    "\n",
    "\n",
    "\n",
    "ncols, nrows = 3, 2\n",
    "fig = plt.figure(figsize=(ncols*4, nrows*4))\n",
    "axlist = [plt.subplot2grid((nrows, ncols), (0, x)) for x in range(0, 3)]\n",
    "plot_type = 'bar'\n",
    "prune_radii = True\n",
    "\n",
    "model_sort_order = ['CDDD', 'MegaMolBART-NeMo1.2', 'MegaMolBART-NeMo1.10']\n",
    "\n",
    "## \n",
    "\n",
    "generative_mask = metric_df['name'].isin(['validity', 'unique', 'novelty'])\n",
    "generative_df = metric_df[generative_mask].dropna(axis=1, how='all')\n",
    "\n",
    "# Set sort order by using a categorical\n",
    "cat = pd.CategoricalDtype(['validity', 'novelty', 'unique'], ordered=True)\n",
    "generative_df['name'] = generative_df['name'].astype(cat)\n",
    "\n",
    "grouper = generative_df.groupby('name')\n",
    "timestamp_lim = (metric_df['timestamp'].min(), metric_df['timestamp'].max())\n",
    "\n",
    "for ax, (metric, dat) in zip(axlist, grouper):\n",
    "    if not isinstance(dat, pd.DataFrame):\n",
    "        dat = dat.to_frame()\n",
    "\n",
    "    is_first_col = True if ax is axlist[0] else False\n",
    "\n",
    "    if metric in ACCEPTANCE_CRITERIA:\n",
    "        ax.axhline(y=ACCEPTANCE_CRITERIA[metric], xmin=0, xmax=1, color='red', lw=1.0, zorder=-1)\n",
    "\n",
    "    if plot_type == 'timeseries':\n",
    "        # Timeseries -- line plot data\n",
    "        dat = prune_megamolbart_radii(dat)\n",
    "        dat = dat.pivot(index='timestamp', columns='inferrer', values='value')\n",
    "        dat.plot(kind='line', marker='o', ax=ax, legend=is_first_col)\n",
    "        # ax.set_xlim(*timestamp_lim) # TODO FIX ME\n",
    "        xlabel = 'Model (Timeseries Benchmark)'\n",
    "    else:\n",
    "        # Barplot of each model\n",
    "        if prune_radii:\n",
    "            dat = prune_models(dat)\n",
    "            \n",
    "        if dat.groupby(['inferrer']).size().max() == 1:\n",
    "            dat = dat[['inferrer', 'value']].set_index('inferrer').sort_index()\n",
    "            print(dat)\n",
    "        else:\n",
    "            dat = dat.pivot(index='inferrer', columns='radius', values='value')\n",
    "            \n",
    "        dat.plot(kind='bar', ax=ax, legend=is_first_col, rot=70)\n",
    "\n",
    "    ax.set_ylim(0, 1.1)\n",
    "    ax.set(title=f'Sampling: \\n{metric.title()}', xlabel=xlabel, ylabel='Ratio')"
   ]
  },
  {
   "cell_type": "code",
   "execution_count": 24,
   "metadata": {},
   "outputs": [
    {
     "data": {
      "text/plain": [
       "Index(['value', 'name', 'inferrer', 'iteration', 'run_time', 'timestamp',\n",
       "       'data_size', 'model_size', 'radius', 'num_samples', 'remove_invalid'],\n",
       "      dtype='object')"
      ]
     },
     "execution_count": 24,
     "metadata": {},
     "output_type": "execute_result"
    }
   ],
   "source": [
    "dat.columns"
   ]
  },
  {
   "cell_type": "code",
   "execution_count": 26,
   "metadata": {},
   "outputs": [
    {
     "data": {
      "text/html": [
       "<div>\n",
       "<style scoped>\n",
       "    .dataframe tbody tr th:only-of-type {\n",
       "        vertical-align: middle;\n",
       "    }\n",
       "\n",
       "    .dataframe tbody tr th {\n",
       "        vertical-align: top;\n",
       "    }\n",
       "\n",
       "    .dataframe thead th {\n",
       "        text-align: right;\n",
       "    }\n",
       "</style>\n",
       "<table border=\"1\" class=\"dataframe\">\n",
       "  <thead>\n",
       "    <tr style=\"text-align: right;\">\n",
       "      <th>radius</th>\n",
       "      <th>0.70</th>\n",
       "      <th>0.75</th>\n",
       "      <th>1.00</th>\n",
       "    </tr>\n",
       "    <tr>\n",
       "      <th>inferrer</th>\n",
       "      <th></th>\n",
       "      <th></th>\n",
       "      <th></th>\n",
       "    </tr>\n",
       "  </thead>\n",
       "  <tbody>\n",
       "    <tr>\n",
       "      <th>CDDD</th>\n",
       "      <td>NaN</td>\n",
       "      <td>NaN</td>\n",
       "      <td>0.954314</td>\n",
       "    </tr>\n",
       "    <tr>\n",
       "      <th>MegaMolBART-NeMo1.10</th>\n",
       "      <td>0.177682</td>\n",
       "      <td>NaN</td>\n",
       "      <td>NaN</td>\n",
       "    </tr>\n",
       "    <tr>\n",
       "      <th>MegaMolBART-NeMo1.2</th>\n",
       "      <td>NaN</td>\n",
       "      <td>0.159203</td>\n",
       "      <td>NaN</td>\n",
       "    </tr>\n",
       "  </tbody>\n",
       "</table>\n",
       "</div>"
      ],
      "text/plain": [
       "radius                    0.70      0.75      1.00\n",
       "inferrer                                          \n",
       "CDDD                       NaN       NaN  0.954314\n",
       "MegaMolBART-NeMo1.10  0.177682       NaN       NaN\n",
       "MegaMolBART-NeMo1.2        NaN  0.159203       NaN"
      ]
     },
     "execution_count": 26,
     "metadata": {},
     "output_type": "execute_result"
    }
   ],
   "source": [
    "d = prune_models(dat)\n",
    "d.pivot(index='inferrer', columns='radius', values='value')"
   ]
  },
  {
   "cell_type": "code",
   "execution_count": 21,
   "metadata": {},
   "outputs": [
    {
     "data": {
      "text/html": [
       "<div>\n",
       "<style scoped>\n",
       "    .dataframe tbody tr th:only-of-type {\n",
       "        vertical-align: middle;\n",
       "    }\n",
       "\n",
       "    .dataframe tbody tr th {\n",
       "        vertical-align: top;\n",
       "    }\n",
       "\n",
       "    .dataframe thead th {\n",
       "        text-align: right;\n",
       "    }\n",
       "</style>\n",
       "<table border=\"1\" class=\"dataframe\">\n",
       "  <thead>\n",
       "    <tr style=\"text-align: right;\">\n",
       "      <th></th>\n",
       "      <th>speed</th>\n",
       "      <th>lifespan</th>\n",
       "    </tr>\n",
       "  </thead>\n",
       "  <tbody>\n",
       "    <tr>\n",
       "      <th>snail</th>\n",
       "      <td>0.1</td>\n",
       "      <td>2.0</td>\n",
       "    </tr>\n",
       "    <tr>\n",
       "      <th>pig</th>\n",
       "      <td>17.5</td>\n",
       "      <td>8.0</td>\n",
       "    </tr>\n",
       "    <tr>\n",
       "      <th>elephant</th>\n",
       "      <td>40.0</td>\n",
       "      <td>70.0</td>\n",
       "    </tr>\n",
       "    <tr>\n",
       "      <th>rabbit</th>\n",
       "      <td>48.0</td>\n",
       "      <td>1.5</td>\n",
       "    </tr>\n",
       "    <tr>\n",
       "      <th>giraffe</th>\n",
       "      <td>52.0</td>\n",
       "      <td>25.0</td>\n",
       "    </tr>\n",
       "    <tr>\n",
       "      <th>coyote</th>\n",
       "      <td>69.0</td>\n",
       "      <td>12.0</td>\n",
       "    </tr>\n",
       "    <tr>\n",
       "      <th>horse</th>\n",
       "      <td>88.0</td>\n",
       "      <td>28.0</td>\n",
       "    </tr>\n",
       "  </tbody>\n",
       "</table>\n",
       "</div>"
      ],
      "text/plain": [
       "          speed  lifespan\n",
       "snail       0.1       2.0\n",
       "pig        17.5       8.0\n",
       "elephant   40.0      70.0\n",
       "rabbit     48.0       1.5\n",
       "giraffe    52.0      25.0\n",
       "coyote     69.0      12.0\n",
       "horse      88.0      28.0"
      ]
     },
     "execution_count": 21,
     "metadata": {},
     "output_type": "execute_result"
    }
   ],
   "source": [
    "speed = [0.1, 17.5, 40, 48, 52, 69, 88]\n",
    "lifespan = [2, 8, 70, 1.5, 25, 12, 28]\n",
    "index = ['snail', 'pig', 'elephant',\n",
    "         'rabbit', 'giraffe', 'coyote', 'horse']\n",
    "df = pd.DataFrame({'speed': speed,\n",
    "                   'lifespan': lifespan}, index=index)\n",
    "# ax = df.plot.bar(rot=0)\n",
    "df"
   ]
  },
  {
   "cell_type": "code",
   "execution_count": null,
   "metadata": {},
   "outputs": [],
   "source": []
  }
 ],
 "metadata": {
  "kernelspec": {
   "display_name": "Python 3 (ipykernel)",
   "language": "python",
   "name": "python3"
  },
  "language_info": {
   "codemirror_mode": {
    "name": "ipython",
    "version": 3
   },
   "file_extension": ".py",
   "mimetype": "text/x-python",
   "name": "python",
   "nbconvert_exporter": "python",
   "pygments_lexer": "ipython3",
   "version": "3.8.12"
  },
  "vscode": {
   "interpreter": {
    "hash": "d4d1e4263499bec80672ea0156c357c1ee493ec2b1c70f0acce89fc37c4a6abe"
   }
  }
 },
 "nbformat": 4,
 "nbformat_minor": 4
}

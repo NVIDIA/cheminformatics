{
 "cells": [
  {
   "cell_type": "code",
   "execution_count": 1,
   "id": "ed57ec5d",
   "metadata": {},
   "outputs": [],
   "source": [
    "import os\n",
    "import math\n",
    "import glob\n",
    "import itertools\n",
    "\n",
    "import pandas as pd\n",
    "import matplotlib.pyplot as plt"
   ]
  },
  {
   "cell_type": "code",
   "execution_count": 2,
   "id": "2d293603",
   "metadata": {},
   "outputs": [],
   "source": [
    "reports_dir = '/data/benchmark_output/nemo_20220714'\n",
    "\n",
    "kpis = ['novelty', 'validity', 'unique']\n",
    "comparison_fld = 'exp_name' # radius\n",
    "value_fld = 'value'"
   ]
  },
  {
   "cell_type": "code",
   "execution_count": 3,
   "id": "fc854249",
   "metadata": {},
   "outputs": [],
   "source": [
    "def load_files(filenames):\n",
    "    for filename in filenames:\n",
    "        # TODO: exp_name should be a column in the report\n",
    "        exp_name = filename.split('-')[-2]\n",
    "        df = pd.read_csv(filename)\n",
    "        df['exp_name'] = list(itertools.repeat(exp_name, df.shape[0]))\n",
    "        yield (df)"
   ]
  },
  {
   "cell_type": "markdown",
   "id": "299a99fb",
   "metadata": {},
   "source": [
    "## Samples KPI Plots"
   ]
  },
  {
   "cell_type": "code",
   "execution_count": 4,
   "id": "cd0ea7cf",
   "metadata": {},
   "outputs": [
    {
     "data": {
      "image/png": "[encoded data removed]",
      "text/plain": [
       "<Figure size 2016x288 with 3 Axes>"
      ]
     },
     "metadata": {},
     "output_type": "display_data"
    }
   ],
   "source": [
    "num_plots = len(kpis)\n",
    "plots_per_row = 3\n",
    "rows = math.ceil(num_plots / plots_per_row)\n",
    "fig = plt.figure(figsize=(28, (rows * 4)), facecolor=(.95, .95, .95))\n",
    "axs = fig.subplots(math.ceil(num_plots / plots_per_row), \n",
    "                   math.ceil(num_plots / rows))\n",
    "\n",
    "for i, kpi in enumerate(kpis):\n",
    "    files = sorted(glob.glob(os.path.join(reports_dir, f'*{kpi}.csv'),\n",
    "                             recursive=False))\n",
    "    plt_df = pd.concat(load_files(files))\n",
    "    labels = plt_df[comparison_fld]\n",
    "    values = plt_df[value_fld]\n",
    "    j = i // plots_per_row\n",
    "    k = i % plots_per_row\n",
    "    axs[k].bar(labels, values)\n",
    "    axs[k].set_title(kpi.title())\n",
    "    axs[k].set_facecolor((.9, .9, .9))\n",
    "\n",
    "fig.show()\n",
    "fig.savefig('sample_metrics.png')"
   ]
  },
  {
   "cell_type": "code",
   "execution_count": 5,
   "id": "2b998e0b",
   "metadata": {
    "jupyter": {
     "source_hidden": true
    }
   },
   "outputs": [],
   "source": [
    "# from bokeh.io import output_notebook, push_notebook, show\n",
    "# from bokeh.palettes import Spectral5\n",
    "# from bokeh.plotting import figure\n",
    "# from bokeh.sampledata.autompg import autompg as df\n",
    "# from bokeh.transform import factor_cmap\n",
    "# from bokeh.layouts import column, gridplot\n",
    "\n",
    "# output_notebook()\n",
    "\n",
    "\n",
    "# def split(a, n):\n",
    "#     k, m = divmod(len(a), n)\n",
    "#     return (a[i*k+min(i, m):(i+1)*k+min(i+1, m)] for i in range(n))\n",
    "\n",
    "# plots = []\n",
    "# for i, kpi in enumerate(kpis):\n",
    "#     files = sorted(glob.glob(os.path.join(reports_dir, f'*{kpi}.csv'),\n",
    "#                              recursive=False))\n",
    "#     plt_df = pd.concat(load_files(files))\n",
    "\n",
    "#     p = figure(width=400,\n",
    "#                height=200,\n",
    "#                x_range=plt_df[comparison_fld],\n",
    "#                title=kpi.title())\n",
    "\n",
    "#     p.vbar(x=plt_df[comparison_fld],\n",
    "#            top=plt_df[value_fld],\n",
    "#            width=0.9)\n",
    "#     plots.append(p)\n",
    "\n",
    "# plots = split(plots, len(plots) // 3)\n",
    "# grid_plot = gridplot(plots, toolbar_location='right')\n",
    "# show(grid_plot)"
   ]
  }
 ],
 "metadata": {
  "kernelspec": {
   "display_name": "Python 3 (ipykernel)",
   "language": "python",
   "name": "python3"
  },
  "language_info": {
   "codemirror_mode": {
    "name": "ipython",
    "version": 3
   },
   "file_extension": ".py",
   "mimetype": "text/x-python",
   "name": "python",
   "nbconvert_exporter": "python",
   "pygments_lexer": "ipython3",
   "version": "3.8.13"
  }
 },
 "nbformat": 4,
 "nbformat_minor": 5
}

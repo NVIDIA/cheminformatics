{
 "cells": [
  {
   "cell_type": "code",
   "execution_count": 15,
   "metadata": {},
   "outputs": [],
   "source": [
    "import os\n",
    "import math\n",
    "import shutil\n",
    "import warnings\n",
    "\n",
    "warnings.filterwarnings('ignore', 'Expected ')\n",
    "warnings.simplefilter('ignore')\n",
    "\n",
    "import pandas as pd\n",
    "import numpy as np\n",
    "\n",
    "from sklearn.cluster import KMeans\n",
    "from sklearn.metrics import silhouette_score, euclidean_distances\n",
    "from scipy.stats import spearmanr\n",
    "from scipy.stats import rankdata\n",
    "\n",
    "import cupy\n",
    "# import cudf\n",
    "# import cuml\n",
    "\n",
    "from rdkit.Chem import DataStructs\n",
    "from rdkit.DataManip.Metric import rdMetricMatrixCalc\n",
    "\n",
    "from nvidia.cheminformatics.utils.distance import tanimoto_calculate\n",
    "from nvidia.cheminformatics.utils.metrics import batched_silhouette_scores"
   ]
  },
  {
   "cell_type": "markdown",
   "metadata": {},
   "source": [
    "## Load Benchmark"
   ]
  },
  {
   "cell_type": "code",
   "execution_count": 2,
   "metadata": {},
   "outputs": [],
   "source": [
    "num_molecules = 100\n",
    "\n",
    "benchmark_df = pd.read_csv('/workspace/nvidia/cheminformatics/data/benchmark_approved_drugs.csv')\n",
    "fp = pd.read_csv('/workspace/nvidia/cheminformatics/data/fingerprints_approved_drugs.csv')\n",
    "\n",
    "benchmark_df = benchmark_df.iloc[:num_molecules]\n",
    "fp = fp.iloc[:num_molecules]\n",
    "\n",
    "benchmark_df.set_index('molregno', inplace=True)\n",
    "fp.set_index('molregno', inplace=True)"
   ]
  },
  {
   "cell_type": "markdown",
   "metadata": {},
   "source": [
    "## Validate GPU Version of Tanimoto Distance -- CONSISTENT\n",
    "\n",
    "Use RDKit's version (Rogers Tanimoto as the benchmark)"
   ]
  },
  {
   "cell_type": "code",
   "execution_count": 3,
   "metadata": {},
   "outputs": [],
   "source": [
    "def create_bitvect(array):\n",
    "    array = np.asarray(array).astype(int)\n",
    "    bitstring = ''.join(array.astype(str))\n",
    "    return DataStructs.cDataStructs.CreateFromBitString(bitstring)\n",
    "\n",
    "fp_bitvect = fp.apply(create_bitvect, axis=1)\n",
    "\n",
    "# https://github.com/rdkit/rdkit-orig/blob/master/Code/DataManip/MetricMatrixCalc/Wrap/rdMetricMatrixCalc.cpp#L169\n",
    "# https://github.com/rdkit/rdkit-orig/blob/57058c886a49cc597b0c40641a28697ee3a57aee/Code/DataManip/MetricMatrixCalc/MetricFuncs.h#L32\n",
    "# https://github.com/rdkit/rdkit-orig/blob/57058c886a49cc597b0c40641a28697ee3a57aee/Code/DataStructs/BitOps.h#L29-L67\n",
    "tanimoto_dist = rdMetricMatrixCalc.GetTanimotoDistMat(fp_bitvect.to_list())\n",
    "\n",
    "n = len(fp_bitvect)\n",
    "idx = np.tril_indices(n, k=-1)\n",
    "cpu_tanimoto_dist_matrix = np.zeros((n,n)).astype(float)\n",
    "cpu_tanimoto_dist_matrix[idx] = tanimoto_dist"
   ]
  },
  {
   "cell_type": "markdown",
   "metadata": {},
   "source": [
    "Compare to GPU version"
   ]
  },
  {
   "cell_type": "code",
   "execution_count": 4,
   "metadata": {},
   "outputs": [
    {
     "name": "stdout",
     "output_type": "stream",
     "text": [
      "0.88372093 0.8837209302325582\n",
      "0.85 0.85\n",
      "0.87931037 0.8793103448275862\n",
      "0.8358209 0.835820895522388\n",
      "0.89552236 0.8955223880597015\n",
      "0.7297298 0.7297297297297297\n",
      "0.8030303 0.803030303030303\n",
      "0.880597 0.8805970149253731\n",
      "0.7368421 0.736842105263158\n",
      "0.32352942 0.32352941176470584\n",
      "0.84615386 0.8461538461538461\n"
     ]
    }
   ],
   "source": [
    "gpu_tanimoto_dist_matrix = tanimoto_calculate(cupy.array(fp.values), calc_distance=True)\n",
    "\n",
    "for ct,i in enumerate(zip(*idx)):\n",
    "    if ct > 10:\n",
    "        break\n",
    "    print(gpu_tanimoto_dist_matrix[i], cpu_tanimoto_dist_matrix[i])"
   ]
  },
  {
   "cell_type": "markdown",
   "metadata": {},
   "source": [
    "## Validate Batched Silhouette Score -- OK, BUT SEE NOTE\n",
    "\n",
    "Note sight variability based on batch size for the GPU version.."
   ]
  },
  {
   "cell_type": "code",
   "execution_count": 5,
   "metadata": {},
   "outputs": [],
   "source": [
    "km = KMeans(n_clusters=8).fit(fp)\n",
    "km_coords = km.transform(fp)\n",
    "km_clusters = km.predict(fp)"
   ]
  },
  {
   "cell_type": "code",
   "execution_count": 6,
   "metadata": {},
   "outputs": [
    {
     "data": {
      "text/plain": [
       "0.13812257938192793"
      ]
     },
     "execution_count": 6,
     "metadata": {},
     "output_type": "execute_result"
    }
   ],
   "source": [
    "silhouette_score(km_coords, km_clusters)"
   ]
  },
  {
   "cell_type": "code",
   "execution_count": 7,
   "metadata": {},
   "outputs": [
    {
     "data": {
      "text/plain": [
       "0.13812257938192793"
      ]
     },
     "execution_count": 7,
     "metadata": {},
     "output_type": "execute_result"
    }
   ],
   "source": [
    "batched_silhouette_scores(cupy.array(km_coords), cupy.array(km_clusters), batch_size=100)"
   ]
  },
  {
   "cell_type": "code",
   "execution_count": 8,
   "metadata": {},
   "outputs": [
    {
     "data": {
      "text/plain": [
       "0.08642503530799843"
      ]
     },
     "execution_count": 8,
     "metadata": {},
     "output_type": "execute_result"
    }
   ],
   "source": [
    "batched_silhouette_scores(cupy.array(km_coords), cupy.array(km_clusters), batch_size=50)"
   ]
  },
  {
   "cell_type": "code",
   "execution_count": 9,
   "metadata": {},
   "outputs": [
    {
     "data": {
      "text/plain": [
       "-0.07845200106602745"
      ]
     },
     "execution_count": 9,
     "metadata": {},
     "output_type": "execute_result"
    }
   ],
   "source": [
    "batched_silhouette_scores(cupy.array(km_coords), cupy.array(km_clusters), batch_size=10)"
   ]
  },
  {
   "cell_type": "markdown",
   "metadata": {},
   "source": [
    "## Validate GPU Version of Spearman's R"
   ]
  },
  {
   "cell_type": "code",
   "execution_count": 16,
   "metadata": {},
   "outputs": [],
   "source": [
    "def rankdata_gpu(array, tol=1.0e-5):\n",
    "    # assert dim = 1\n",
    "    idx = cupy.argsort(array)\n",
    "    \n",
    "    #sorted_array = array[idx]\n",
    "    #pairwise_diff = cupy.abs(sorted_array[:-1] - sorted_array[1:])\n",
    "    #repeated_bool = pairwise_diff <= tol\n",
    "    #repeated_values = cupy.unique(sorted_array[:-1][similar_bool]))\n",
    "    return idx + 1.0\n",
    "\n",
    "\n",
    "def spearman_rho(data_matrix1, data_matrix2, top_k=0):\n",
    "    \"\"\"Calculate spearman's Rho, ranked correlation coefficient\n",
    "\n",
    "    Args:\n",
    "        data_matrix1 (2D array or dataframe): matrix with samples as rows, the reference matrix\n",
    "        data_matrix2 (2D array or dataframe): matrix with samples as rows\n",
    "\n",
    "    Returns:\n",
    "        matrix: ranked correlation coeffcients for data\n",
    "    \"\"\"\n",
    "    \n",
    "    #assert (data_matrix1.ndim in [1, 2]) & (data_matrix2.ndim in [1, 2])\n",
    "    #data_matrix1 = data_matrix1[np.newaxis, :] if data_matrix1.ndim == 1 else data_matrix1\n",
    "    #data_matrix2 = data_matrix2[np.newaxis, :] if data_matrix2.ndim == 1 else data_matrix2\n",
    "    #assert data_matrix1.shape == data_matrix2.shape\n",
    "    \n",
    "    data_matrix1 = cupy.asnumpy(data_matrix1)\n",
    "    data_matrix2 = cupy.asnumpy(data_matrix2)\n",
    "    #n_samples, n_features = data_matrix1.shape\n",
    "    #max_features = n_features\n",
    "    \n",
    "    # This is an auto correlation matrix -- need to skip the diagonal values\n",
    "    #if n_samples == n_features:\n",
    "    #    if cupy.allclose(data_matrix1, data_matrix2.T):\n",
    "    #        print('auto')\n",
    "    #        cupy.fill_diagonal(data_matrix1, cupy.inf)\n",
    "    #        cupy.fill_diagonal(data_matrix2, cupy.inf)\n",
    "    #        max_features -=1\n",
    "    \n",
    "    # TODO: fix ranking to handle identical values\n",
    "    data_matrix1_sort = rankdata_gpu(data_matrix1)\n",
    "    data_matrix2_sort = rankdata_gpu(data_matrix2)\n",
    "\n",
    "    #top_k = max_features if (top_k==0) | (top_k>max_features) else top_k\n",
    "    #mask_top_k = (data_matrix1_sort < top_k).reshape(n_samples, -1)\n",
    "    #data_matrix1_top_k = data_matrix1_sort[mask_top_k].reshape(n_samples, -1) + 1\n",
    "    #data_matrix2_top_k = data_matrix2_sort[mask_top_k].reshape(n_samples, -1) + 1\n",
    "    \n",
    "    data_matrix1_top_k = data_matrix1_sort\n",
    "    data_matrix2_top_k = data_matrix2_sort\n",
    "    \n",
    "    return cupy.corrcoef(data_matrix1_sort, data_matrix2_sort)[0, 1]"
   ]
  },
  {
   "cell_type": "code",
   "execution_count": 19,
   "metadata": {},
   "outputs": [
    {
     "name": "stdout",
     "output_type": "stream",
     "text": [
      "CPU vs GPU\n",
      "Array A [0.45235983 0.5639865  0.38221117 0.13899105] [0.45235983 0.5639865  0.38221117 0.13899105]\n",
      "Array B [0.5156106  0.51287397 0.08992894 0.02523582] [0.5156106  0.51287397 0.08992894 0.02523582]\n",
      "Rank A [3. 4. 2. 1.] [4. 3. 1. 2.]\n",
      "Rank B [4. 3. 2. 1.] [4. 3. 2. 1.]\n",
      "Spearman Rho 0.7999999999999999 0.7999999999999999\n"
     ]
    }
   ],
   "source": [
    "a1 = np.random.rand(4)\n",
    "b1 = np.random.rand(4)\n",
    "a2 = cupy.array(a1)\n",
    "b2 = cupy.array(b1)\n",
    "\n",
    "print('CPU vs GPU')\n",
    "print('Array A', a1, a2)\n",
    "print('Array B', b1, b2)\n",
    "print('Rank A', rankdata(a1), rankdata_gpu(a2))\n",
    "print('Rank B', rankdata(b1), rankdata_gpu(b2))\n",
    "print('Spearman Rho', spearmanr(a1, b1).correlation, spearman_rho(a2, b2))"
   ]
  },
  {
   "cell_type": "code",
   "execution_count": 24,
   "metadata": {},
   "outputs": [
    {
     "name": "stdout",
     "output_type": "stream",
     "text": [
      "CPU vs GPU\n",
      "Array A [1.90392670e-01 6.98102558e-01 6.74122568e-04 2.17078037e-01] [1.90392670e-01 6.98102558e-01 6.74122568e-04 2.17078037e-01]\n",
      "Array B [0.62058781 0.6939219  0.97281193 0.77607357] [0.62058781 0.6939219  0.97281193 0.77607357]\n",
      "Rank A [2. 4. 1. 3.] [3. 1. 4. 2.]\n",
      "Rank B [1. 2. 4. 3.] [1. 2. 4. 3.]\n",
      "Spearman Rho -0.39999999999999997 0.39999999999999997\n"
     ]
    }
   ],
   "source": [
    "a3 = np.random.rand(4)\n",
    "b3 = np.random.rand(4)\n",
    "a4 = cupy.array(a3)\n",
    "b4 = cupy.array(b3)\n",
    "\n",
    "print('CPU vs GPU')\n",
    "print('Array A', a3, a4)\n",
    "print('Array B', b3, b4)\n",
    "print('Rank A', rankdata(a3), rankdata_gpu(a4))\n",
    "print('Rank B', rankdata(b3), rankdata_gpu(b4))\n",
    "print('Spearman Rho', spearmanr(a3, b3).correlation, spearman_rho(a4, b4))"
   ]
  }
 ],
 "metadata": {
  "kernelspec": {
   "display_name": "Python 3",
   "language": "python",
   "name": "python3"
  },
  "language_info": {
   "codemirror_mode": {
    "name": "ipython",
    "version": 3
   },
   "file_extension": ".py",
   "mimetype": "text/x-python",
   "name": "python",
   "nbconvert_exporter": "python",
   "pygments_lexer": "ipython3",
   "version": "3.7.8"
  }
 },
 "nbformat": 4,
 "nbformat_minor": 4
}

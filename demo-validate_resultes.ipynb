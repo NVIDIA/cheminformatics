{
 "cells": [
  {
   "cell_type": "code",
   "execution_count": 23,
   "metadata": {},
   "outputs": [],
   "source": [
    "import os\n",
    "import math\n",
    "import shutil\n",
    "import warnings\n",
    "\n",
    "warnings.filterwarnings('ignore', 'Expected ')\n",
    "warnings.simplefilter('ignore')\n",
    "\n",
    "import pandas as pd\n",
    "import numpy as np\n",
    "\n",
    "from sklearn.cluster import KMeans\n",
    "from sklearn.metrics import silhouette_score\n",
    "\n",
    "import cupy\n",
    "# import cudf\n",
    "# import cuml\n",
    "\n",
    "from rdkit.Chem import DataStructs\n",
    "from rdkit.DataManip.Metric import rdMetricMatrixCalc\n",
    "\n",
    "from nvidia.cheminformatics.utils.distance import tanimoto_calculate\n",
    "from nvidia.cheminformatics.utils.metrics import batched_silhouette_scores, spearman_rho"
   ]
  },
  {
   "cell_type": "markdown",
   "metadata": {},
   "source": [
    "## Load Benchmark"
   ]
  },
  {
   "cell_type": "code",
   "execution_count": 10,
   "metadata": {},
   "outputs": [],
   "source": [
    "num_molecules = 100\n",
    "\n",
    "benchmark_df = pd.read_csv('/workspace/nvidia/cheminformatics/data/benchmark_approved_drugs.csv')\n",
    "fp = pd.read_csv('/workspace/nvidia/cheminformatics/data/fingerprints_approved_drugs.csv')\n",
    "\n",
    "benchmark_df = benchmark_df.iloc[:num_molecules]\n",
    "fp = fp.iloc[:num_molecules]\n",
    "\n",
    "benchmark_df.set_index('molregno', inplace=True)\n",
    "fp.set_index('molregno', inplace=True)"
   ]
  },
  {
   "cell_type": "markdown",
   "metadata": {},
   "source": [
    "## Validate GPU Version of Tanimoto Distance -- INCONSISTENT\n",
    "\n",
    "Use RDKit's version (Rogers Tanimoto as the benchmark)"
   ]
  },
  {
   "cell_type": "code",
   "execution_count": 11,
   "metadata": {},
   "outputs": [],
   "source": [
    "def create_bitvect(array):\n",
    "    array = np.asarray(array).astype(int)\n",
    "    bitstring = ''.join(array.astype(str))\n",
    "    return DataStructs.cDataStructs.CreateFromBitString(bitstring)\n",
    "\n",
    "fp_bitvect = fp.apply(create_bitvect, axis=1)\n",
    "\n",
    "# https://github.com/rdkit/rdkit-orig/blob/master/Code/DataManip/MetricMatrixCalc/Wrap/rdMetricMatrixCalc.cpp#L169\n",
    "# https://github.com/rdkit/rdkit-orig/blob/57058c886a49cc597b0c40641a28697ee3a57aee/Code/DataManip/MetricMatrixCalc/MetricFuncs.h#L32\n",
    "# https://github.com/rdkit/rdkit-orig/blob/57058c886a49cc597b0c40641a28697ee3a57aee/Code/DataStructs/BitOps.h#L29-L67\n",
    "tanimoto_dist = rdMetricMatrixCalc.GetTanimotoDistMat(fp_bitvect.to_list())\n",
    "\n",
    "n = len(fp_bitvect)\n",
    "idx = np.tril_indices(n, k=-1)\n",
    "cpu_tanimoto_dist_matrix = np.zeros((n,n)).astype(float)\n",
    "cpu_tanimoto_dist_matrix[idx] = tanimoto_dist"
   ]
  },
  {
   "cell_type": "markdown",
   "metadata": {},
   "source": [
    "Compare to GPU version"
   ]
  },
  {
   "cell_type": "code",
   "execution_count": 21,
   "metadata": {},
   "outputs": [
    {
     "name": "stdout",
     "output_type": "stream",
     "text": [
      "0.8688952 0.8837209302325582\n",
      "0.7980343 0.85\n",
      "0.91975254 0.8793103448275862\n",
      "0.7891815 0.835820895522388\n",
      "0.91071063 0.8955223880597015\n",
      "0.6922421 0.7297297297297297\n",
      "0.6970374 0.803030303030303\n",
      "0.87041837 0.8805970149253731\n",
      "0.7239917 0.736842105263158\n",
      "0.2837614 0.32352941176470584\n",
      "0.85124236 0.8461538461538461\n"
     ]
    }
   ],
   "source": [
    "gpu_tanimoto_dist_matrix = tanimoto_calculate(cupy.array(fp.values), calc_distance=True)\n",
    "\n",
    "for ct,i in enumerate(zip(*idx)):\n",
    "    if ct > 10:\n",
    "        break\n",
    "    print(gpu_tanimoto_dist_matrix[i], cpu_tanimoto_dist_matrix[i])"
   ]
  },
  {
   "cell_type": "markdown",
   "metadata": {},
   "source": [
    "## Validate Batched Silhouette Score -- OK, BUT SEE NOTE\n",
    "\n",
    "Note sight variability based on batch size for the GPU version.."
   ]
  },
  {
   "cell_type": "code",
   "execution_count": 45,
   "metadata": {},
   "outputs": [],
   "source": [
    "km = KMeans(n_clusters=8).fit(fp)\n",
    "km_coords = km.transform(fp)\n",
    "km_clusters = km.predict(fp)"
   ]
  },
  {
   "cell_type": "code",
   "execution_count": 46,
   "metadata": {},
   "outputs": [
    {
     "data": {
      "text/plain": [
       "0.13464282639947014"
      ]
     },
     "execution_count": 46,
     "metadata": {},
     "output_type": "execute_result"
    }
   ],
   "source": [
    "silhouette_score(km_coords, km_clusters)"
   ]
  },
  {
   "cell_type": "code",
   "execution_count": 47,
   "metadata": {},
   "outputs": [
    {
     "data": {
      "text/plain": [
       "0.13464282639947014"
      ]
     },
     "execution_count": 47,
     "metadata": {},
     "output_type": "execute_result"
    }
   ],
   "source": [
    "batched_silhouette_scores(cupy.array(km_coords), cupy.array(km_clusters), batch_size=100)"
   ]
  },
  {
   "cell_type": "code",
   "execution_count": 48,
   "metadata": {},
   "outputs": [
    {
     "data": {
      "text/plain": [
       "0.12065168973891105"
      ]
     },
     "execution_count": 48,
     "metadata": {},
     "output_type": "execute_result"
    }
   ],
   "source": [
    "batched_silhouette_scores(cupy.array(km_coords), cupy.array(km_clusters), batch_size=50)"
   ]
  },
  {
   "cell_type": "code",
   "execution_count": 49,
   "metadata": {},
   "outputs": [
    {
     "data": {
      "text/plain": [
       "0.014661038373309707"
      ]
     },
     "execution_count": 49,
     "metadata": {},
     "output_type": "execute_result"
    }
   ],
   "source": [
    "batched_silhouette_scores(cupy.array(km_coords), cupy.array(km_clusters), batch_size=10)"
   ]
  },
  {
   "cell_type": "markdown",
   "metadata": {},
   "source": [
    "## Validate GPU Version of Spearman's R"
   ]
  },
  {
   "cell_type": "code",
   "execution_count": null,
   "metadata": {},
   "outputs": [],
   "source": []
  }
 ],
 "metadata": {
  "kernelspec": {
   "display_name": "Python 3",
   "language": "python",
   "name": "python3"
  },
  "language_info": {
   "codemirror_mode": {
    "name": "ipython",
    "version": 3
   },
   "file_extension": ".py",
   "mimetype": "text/x-python",
   "name": "python",
   "nbconvert_exporter": "python",
   "pygments_lexer": "ipython3",
   "version": "3.7.8"
  }
 },
 "nbformat": 4,
 "nbformat_minor": 4
}

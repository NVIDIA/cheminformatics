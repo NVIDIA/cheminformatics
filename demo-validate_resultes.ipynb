{
 "cells": [
  {
   "cell_type": "code",
   "execution_count": 53,
   "metadata": {},
   "outputs": [],
   "source": [
    "import os\n",
    "import math\n",
    "import shutil\n",
    "import warnings\n",
    "\n",
    "warnings.filterwarnings('ignore', 'Expected ')\n",
    "warnings.simplefilter('ignore')\n",
    "\n",
    "import pandas as pd\n",
    "import numpy as np\n",
    "\n",
    "from sklearn.cluster import KMeans\n",
    "from sklearn.metrics import silhouette_score, euclidean_distances\n",
    "from scipy.stats import spearmanr as spearman_rho_cpu\n",
    "\n",
    "import cupy\n",
    "# import cudf\n",
    "# import cuml\n",
    "\n",
    "from rdkit.Chem import DataStructs\n",
    "from rdkit.DataManip.Metric import rdMetricMatrixCalc\n",
    "\n",
    "from nvidia.cheminformatics.utils.distance import tanimoto_calculate\n",
    "from nvidia.cheminformatics.utils.metrics import batched_silhouette_scores, spearman_rho"
   ]
  },
  {
   "cell_type": "markdown",
   "metadata": {},
   "source": [
    "## Load Benchmark"
   ]
  },
  {
   "cell_type": "code",
   "execution_count": 10,
   "metadata": {},
   "outputs": [],
   "source": [
    "num_molecules = 100\n",
    "\n",
    "benchmark_df = pd.read_csv('/workspace/nvidia/cheminformatics/data/benchmark_approved_drugs.csv')\n",
    "fp = pd.read_csv('/workspace/nvidia/cheminformatics/data/fingerprints_approved_drugs.csv')\n",
    "\n",
    "benchmark_df = benchmark_df.iloc[:num_molecules]\n",
    "fp = fp.iloc[:num_molecules]\n",
    "\n",
    "benchmark_df.set_index('molregno', inplace=True)\n",
    "fp.set_index('molregno', inplace=True)"
   ]
  },
  {
   "cell_type": "markdown",
   "metadata": {},
   "source": [
    "## Validate GPU Version of Tanimoto Distance -- INCONSISTENT\n",
    "\n",
    "Use RDKit's version (Rogers Tanimoto as the benchmark)"
   ]
  },
  {
   "cell_type": "code",
   "execution_count": 11,
   "metadata": {},
   "outputs": [],
   "source": [
    "def create_bitvect(array):\n",
    "    array = np.asarray(array).astype(int)\n",
    "    bitstring = ''.join(array.astype(str))\n",
    "    return DataStructs.cDataStructs.CreateFromBitString(bitstring)\n",
    "\n",
    "fp_bitvect = fp.apply(create_bitvect, axis=1)\n",
    "\n",
    "# https://github.com/rdkit/rdkit-orig/blob/master/Code/DataManip/MetricMatrixCalc/Wrap/rdMetricMatrixCalc.cpp#L169\n",
    "# https://github.com/rdkit/rdkit-orig/blob/57058c886a49cc597b0c40641a28697ee3a57aee/Code/DataManip/MetricMatrixCalc/MetricFuncs.h#L32\n",
    "# https://github.com/rdkit/rdkit-orig/blob/57058c886a49cc597b0c40641a28697ee3a57aee/Code/DataStructs/BitOps.h#L29-L67\n",
    "tanimoto_dist = rdMetricMatrixCalc.GetTanimotoDistMat(fp_bitvect.to_list())\n",
    "\n",
    "n = len(fp_bitvect)\n",
    "idx = np.tril_indices(n, k=-1)\n",
    "cpu_tanimoto_dist_matrix = np.zeros((n,n)).astype(float)\n",
    "cpu_tanimoto_dist_matrix[idx] = tanimoto_dist"
   ]
  },
  {
   "cell_type": "markdown",
   "metadata": {},
   "source": [
    "Compare to GPU version"
   ]
  },
  {
   "cell_type": "code",
   "execution_count": 21,
   "metadata": {},
   "outputs": [
    {
     "name": "stdout",
     "output_type": "stream",
     "text": [
      "0.8688952 0.8837209302325582\n",
      "0.7980343 0.85\n",
      "0.91975254 0.8793103448275862\n",
      "0.7891815 0.835820895522388\n",
      "0.91071063 0.8955223880597015\n",
      "0.6922421 0.7297297297297297\n",
      "0.6970374 0.803030303030303\n",
      "0.87041837 0.8805970149253731\n",
      "0.7239917 0.736842105263158\n",
      "0.2837614 0.32352941176470584\n",
      "0.85124236 0.8461538461538461\n"
     ]
    }
   ],
   "source": [
    "gpu_tanimoto_dist_matrix = tanimoto_calculate(cupy.array(fp.values), calc_distance=True)\n",
    "\n",
    "for ct,i in enumerate(zip(*idx)):\n",
    "    if ct > 10:\n",
    "        break\n",
    "    print(gpu_tanimoto_dist_matrix[i], cpu_tanimoto_dist_matrix[i])"
   ]
  },
  {
   "cell_type": "markdown",
   "metadata": {},
   "source": [
    "## Validate Batched Silhouette Score -- OK, BUT SEE NOTE\n",
    "\n",
    "Note sight variability based on batch size for the GPU version.."
   ]
  },
  {
   "cell_type": "code",
   "execution_count": 45,
   "metadata": {},
   "outputs": [],
   "source": [
    "km = KMeans(n_clusters=8).fit(fp)\n",
    "km_coords = km.transform(fp)\n",
    "km_clusters = km.predict(fp)"
   ]
  },
  {
   "cell_type": "code",
   "execution_count": 46,
   "metadata": {},
   "outputs": [
    {
     "data": {
      "text/plain": [
       "0.13464282639947014"
      ]
     },
     "execution_count": 46,
     "metadata": {},
     "output_type": "execute_result"
    }
   ],
   "source": [
    "silhouette_score(km_coords, km_clusters)"
   ]
  },
  {
   "cell_type": "code",
   "execution_count": 47,
   "metadata": {},
   "outputs": [
    {
     "data": {
      "text/plain": [
       "0.13464282639947014"
      ]
     },
     "execution_count": 47,
     "metadata": {},
     "output_type": "execute_result"
    }
   ],
   "source": [
    "batched_silhouette_scores(cupy.array(km_coords), cupy.array(km_clusters), batch_size=100)"
   ]
  },
  {
   "cell_type": "code",
   "execution_count": 48,
   "metadata": {},
   "outputs": [
    {
     "data": {
      "text/plain": [
       "0.12065168973891105"
      ]
     },
     "execution_count": 48,
     "metadata": {},
     "output_type": "execute_result"
    }
   ],
   "source": [
    "batched_silhouette_scores(cupy.array(km_coords), cupy.array(km_clusters), batch_size=50)"
   ]
  },
  {
   "cell_type": "code",
   "execution_count": 49,
   "metadata": {},
   "outputs": [
    {
     "data": {
      "text/plain": [
       "0.014661038373309707"
      ]
     },
     "execution_count": 49,
     "metadata": {},
     "output_type": "execute_result"
    }
   ],
   "source": [
    "batched_silhouette_scores(cupy.array(km_coords), cupy.array(km_clusters), batch_size=10)"
   ]
  },
  {
   "cell_type": "markdown",
   "metadata": {},
   "source": [
    "## Validate GPU Version of Spearman's R"
   ]
  },
  {
   "cell_type": "code",
   "execution_count": 87,
   "metadata": {},
   "outputs": [],
   "source": [
    "from scipy.stats import rankdata"
   ]
  },
  {
   "cell_type": "code",
   "execution_count": 304,
   "metadata": {},
   "outputs": [],
   "source": [
    "def rankdata_gpu(array, tol=1.0e-5):\n",
    "    # assert dim = 1\n",
    "    idx = cupy.argsort(array)\n",
    "    \n",
    "    #sorted_array = array[idx]\n",
    "    #pairwise_diff = cupy.abs(sorted_array[:-1] - sorted_array[1:])\n",
    "    #repeated_bool = pairwise_diff <= tol\n",
    "    #repeated_values = cupy.unique(sorted_array[:-1][similar_bool]))\n",
    "    return idx + 1.0\n",
    "\n",
    "\n",
    "def spearman_rho(data_matrix1, data_matrix2, top_k=0):\n",
    "    \"\"\"Calculate spearman's Rho, ranked correlation coefficient\n",
    "\n",
    "    Args:\n",
    "        data_matrix1 (2D array or dataframe): matrix with samples as rows, the reference matrix\n",
    "        data_matrix2 (2D array or dataframe): matrix with samples as rows\n",
    "\n",
    "    Returns:\n",
    "        matrix: ranked correlation coeffcients for data\n",
    "    \"\"\"\n",
    "    \n",
    "    #assert (data_matrix1.ndim in [1, 2]) & (data_matrix2.ndim in [1, 2])\n",
    "    #data_matrix1 = data_matrix1[np.newaxis, :] if data_matrix1.ndim == 1 else data_matrix1\n",
    "    #data_matrix2 = data_matrix2[np.newaxis, :] if data_matrix2.ndim == 1 else data_matrix2\n",
    "    #assert data_matrix1.shape == data_matrix2.shape\n",
    "    \n",
    "    data_matrix1 = cupy.asnumpy(data_matrix1)\n",
    "    data_matrix2 = cupy.asnumpy(data_matrix2)\n",
    "    #n_samples, n_features = data_matrix1.shape\n",
    "    #max_features = n_features\n",
    "    \n",
    "    # This is an auto correlation matrix -- need to skip the diagonal values\n",
    "    #if n_samples == n_features:\n",
    "    #    if cupy.allclose(data_matrix1, data_matrix2.T):\n",
    "    #        print('auto')\n",
    "    #        cupy.fill_diagonal(data_matrix1, cupy.inf)\n",
    "    #        cupy.fill_diagonal(data_matrix2, cupy.inf)\n",
    "    #        max_features -=1\n",
    "    \n",
    "    # TODO: fix ranking to handle identical values\n",
    "    data_matrix1_sort = rankdata_gpu(data_matrix1)\n",
    "    data_matrix2_sort = rankdata_gpu(data_matrix2)\n",
    "\n",
    "    #top_k = max_features if (top_k==0) | (top_k>max_features) else top_k\n",
    "    #mask_top_k = (data_matrix1_sort < top_k).reshape(n_samples, -1)\n",
    "    #data_matrix1_top_k = data_matrix1_sort[mask_top_k].reshape(n_samples, -1) + 1\n",
    "    #data_matrix2_top_k = data_matrix2_sort[mask_top_k].reshape(n_samples, -1) + 1\n",
    "    \n",
    "    data_matrix1_top_k = data_matrix1_sort\n",
    "    data_matrix2_top_k = data_matrix2_sort\n",
    "    \n",
    "    return cupy.corrcoef(data_matrix1_sort, data_matrix2_sort)[0, 1]"
   ]
  },
  {
   "cell_type": "code",
   "execution_count": 305,
   "metadata": {},
   "outputs": [
    {
     "name": "stdout",
     "output_type": "stream",
     "text": [
      "CPU vs GPU\n",
      "Array A [0.62591156 0.54648339 0.30253198 0.37325067] [0.62591156 0.54648339 0.30253198 0.37325067]\n",
      "Array B [0.81755957 0.68942276 0.07536547 0.10987463] [0.81755957 0.68942276 0.07536547 0.10987463]\n",
      "Rank A [4. 3. 1. 2.] [3. 4. 2. 1.]\n",
      "Rank B [4. 3. 1. 2.] [3. 4. 2. 1.]\n",
      "Spearman Rho 1.0 1.0\n"
     ]
    }
   ],
   "source": [
    "a1 = np.random.rand(4)\n",
    "b1 = np.random.rand(4)\n",
    "a2 = cupy.array(a1)\n",
    "b2 = cupy.array(b1)\n",
    "\n",
    "print('CPU vs GPU')\n",
    "print('Array A', a1, a2)\n",
    "print('Array B', b1, b2)\n",
    "print('Rank A', rankdata(a1), rankdata_gpu(a2))\n",
    "print('Rank B', rankdata(b1), rankdata_gpu(b2))\n",
    "print('Spearman Rho', spearmanr(a1, b1).correlation, spearman_rho(a2, b2))"
   ]
  },
  {
   "cell_type": "code",
   "execution_count": 306,
   "metadata": {},
   "outputs": [
    {
     "name": "stdout",
     "output_type": "stream",
     "text": [
      "CPU vs GPU\n",
      "Array A [0.5406782  0.54081674 0.33069447 0.56410849] [0.5406782  0.54081674 0.33069447 0.56410849]\n",
      "Array B [0.31573929 0.63141851 0.90867346 0.80387163] [0.31573929 0.63141851 0.90867346 0.80387163]\n",
      "Rank A [2. 3. 1. 4.] [3. 1. 2. 4.]\n",
      "Rank B [1. 2. 4. 3.] [1. 2. 4. 3.]\n",
      "Spearman Rho -0.19999999999999998 0.0\n"
     ]
    }
   ],
   "source": [
    "a1 = np.random.rand(4)\n",
    "b1 = np.random.rand(4)\n",
    "a2 = cupy.array(a1)\n",
    "b2 = cupy.array(b1)\n",
    "\n",
    "print('CPU vs GPU')\n",
    "print('Array A', a1, a2)\n",
    "print('Array B', b1, b2)\n",
    "print('Rank A', rankdata(a1), rankdata_gpu(a2))\n",
    "print('Rank B', rankdata(b1), rankdata_gpu(b2))\n",
    "print('Spearman Rho', spearmanr(a1, b1).correlation, spearman_rho(a2, b2))"
   ]
  }
 ],
 "metadata": {
  "kernelspec": {
   "display_name": "Python 3",
   "language": "python",
   "name": "python3"
  },
  "language_info": {
   "codemirror_mode": {
    "name": "ipython",
    "version": 3
   },
   "file_extension": ".py",
   "mimetype": "text/x-python",
   "name": "python",
   "nbconvert_exporter": "python",
   "pygments_lexer": "ipython3",
   "version": "3.7.8"
  }
 },
 "nbformat": 4,
 "nbformat_minor": 4
}

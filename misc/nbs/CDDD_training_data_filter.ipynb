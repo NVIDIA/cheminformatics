{
 "cells": [
  {
   "cell_type": "code",
   "execution_count": null,
   "metadata": {},
   "outputs": [],
   "source": [
    "import pandas as pd\n",
    "import sqlite3"
   ]
  },
  {
   "cell_type": "code",
   "execution_count": null,
   "metadata": {},
   "outputs": [],
   "source": [
    "cddd_train_data = '/clara/testData/chemInformatics/data/db/cddd_train.sqlite3'\n",
    "conn = sqlite3.connect(cddd_train_data)"
   ]
  },
  {
   "cell_type": "code",
   "execution_count": null,
   "metadata": {},
   "outputs": [],
   "source": [
    "data_file = \"../../benchmark/cuchembm/csv_data/benchmark_ZINC15_test_split.csv\"\n",
    "\n",
    "bm_input_data = pd.read_csv(data_file)\n",
    "\n",
    "common_smiles = []\n",
    "for smiles in bm_input_data.canonical_smiles:\n",
    "    result = conn.execute(\"Select count(*) from train_data where smiles = ?\", [smiles])\n",
    "    if result.fetchone()[0] > 0:\n",
    "        common_smiles.append(smiles)\n",
    "\n",
    "len(common_smiles), bm_input_data.shape#, common_smiles"
   ]
  },
  {
   "cell_type": "code",
   "execution_count": null,
   "metadata": {},
   "outputs": [],
   "source": [
    "data_file = '../../benchmark/cuchembm/csv_data/benchmark_ChEMBL_approved_drugs_physchem.csv'\n",
    "\n",
    "bm_input_data = pd.read_csv(data_file)\n",
    "bm_input_data.shape\n",
    "common_smiles = []\n",
    "for smiles in bm_input_data.canonical_smiles:\n",
    "    result = conn.execute(\"Select count(*) from train_data where smiles = ?\", [smiles])\n",
    "    if result.fetchone()[0] > 0:\n",
    "        common_smiles.append(smiles)\n",
    "\n",
    "len(common_smiles), bm_input_data.shape, common_smiles"
   ]
  },
  {
   "cell_type": "code",
   "execution_count": null,
   "metadata": {},
   "outputs": [],
   "source": [
    "data_file = '../../benchmark/cuchembm/csv_data/benchmark_MoleculeNet_Lipophilicity.csv'\n",
    "\n",
    "bm_input_data = pd.read_csv(data_file)\n",
    "bm_input_data.shape\n",
    "common_smiles = []\n",
    "for smiles in bm_input_data.SMILES:\n",
    "    result = conn.execute(\"Select count(*) from train_data where smiles = ?\", [smiles])\n",
    "    if result.fetchone()[0] > 0:\n",
    "        common_smiles.append(smiles)\n",
    "\n",
    "len(common_smiles), bm_input_data.shape, common_smiles"
   ]
  },
  {
   "cell_type": "code",
   "execution_count": null,
   "metadata": {},
   "outputs": [],
   "source": [
    "data_file = '../../benchmark/cuchembm/csv_data/benchmark_MoleculeNet_ESOL.csv'\n",
    "\n",
    "bm_input_data = pd.read_csv(data_file)\n",
    "bm_input_data.shape\n",
    "common_smiles = []\n",
    "for smiles in bm_input_data.SMILES:\n",
    "    result = conn.execute(\"Select count(*) from train_data where smiles = ?\", [smiles])\n",
    "    if result.fetchone()[0] > 0:\n",
    "        common_smiles.append(smiles)\n",
    "\n",
    "len(common_smiles), bm_input_data.shape, common_smiles"
   ]
  },
  {
   "cell_type": "code",
   "execution_count": null,
   "metadata": {},
   "outputs": [],
   "source": [
    "data_file = '../../benchmark/cuchembm/csv_data/benchmark_MoleculeNet_FreeSolv.csv'\n",
    "\n",
    "bm_input_data = pd.read_csv(data_file)\n",
    "bm_input_data.shape\n",
    "common_smiles = []\n",
    "for smiles in bm_input_data.SMILES:\n",
    "    result = conn.execute(\"Select count(*) from train_data where smiles = ?\", [smiles])\n",
    "    if result.fetchone()[0] > 0:\n",
    "        common_smiles.append(smiles)\n",
    "\n",
    "len(common_smiles), bm_input_data.shape, common_smiles"
   ]
  }
 ],
 "metadata": {
  "interpreter": {
   "hash": "31f2aee4e71d21fbe5cf8b01ff0e069b9275f58929596ceb00d14d90e3e16cd6"
  },
  "kernelspec": {
   "display_name": "Python 3.8.10 64-bit",
   "name": "python3"
  },
  "language_info": {
   "codemirror_mode": {
    "name": "ipython",
    "version": 3
   },
   "file_extension": ".py",
   "mimetype": "text/x-python",
   "name": "python",
   "nbconvert_exporter": "python",
   "pygments_lexer": "ipython3",
   "version": "3.8.10"
  },
  "orig_nbformat": 4
 },
 "nbformat": 4,
 "nbformat_minor": 2
}

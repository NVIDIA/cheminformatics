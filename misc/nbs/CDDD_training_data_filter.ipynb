{
 "cells": [
  {
   "cell_type": "code",
   "execution_count": 1,
   "metadata": {},
   "outputs": [],
   "source": [
    "import pandas as pd\n",
    "import sqlite3"
   ]
  },
  {
   "cell_type": "code",
   "execution_count": 2,
   "metadata": {},
   "outputs": [],
   "source": [
    "cddd_train_data = '/clara/testData/chemInformatics/data/db/cddd_train.sqlite3'\n",
    "conn = sqlite3.connect(cddd_train_data)"
   ]
  },
  {
   "cell_type": "code",
   "execution_count": 3,
   "metadata": {},
   "outputs": [
    {
     "data": {
      "text/plain": [
       "261"
      ]
     },
     "execution_count": 3,
     "metadata": {},
     "output_type": "execute_result"
    }
   ],
   "source": [
    "data_file = \"../../benchmark/cuchembm/csv_data/benchmark_ZINC15_test_split.csv\"\n",
    "\n",
    "bm_input_data = pd.read_csv(data_file)\n",
    "bm_input_data.shape\n",
    "common_smiles = []\n",
    "for smiles in bm_input_data.canonical_smiles:\n",
    "    result = conn.execute(\"Select count(*) from train_data where smiles = ?\", [smiles])\n",
    "    if result.fetchone()[0] > 0:\n",
    "        common_smiles.append(smiles)\n",
    "\n",
    "len(common_smiles)\n",
    "# common_smiles"
   ]
  },
  {
   "cell_type": "code",
   "execution_count": 4,
   "metadata": {},
   "outputs": [
    {
     "data": {
      "text/plain": [
       "766"
      ]
     },
     "execution_count": 4,
     "metadata": {},
     "output_type": "execute_result"
    }
   ],
   "source": [
    "data_file = '../../benchmark/cuchembm/csv_data/benchmark_ChEMBL_approved_drugs_physchem.csv'\n",
    "\n",
    "bm_input_data = pd.read_csv(data_file)\n",
    "bm_input_data.shape\n",
    "common_smiles = []\n",
    "for smiles in bm_input_data.canonical_smiles:\n",
    "    result = conn.execute(\"Select count(*) from train_data where smiles = ?\", [smiles])\n",
    "    if result.fetchone()[0] > 0:\n",
    "        common_smiles.append(smiles)\n",
    "\n",
    "len(common_smiles)"
   ]
  },
  {
   "cell_type": "code",
   "execution_count": 5,
   "metadata": {},
   "outputs": [
    {
     "data": {
      "text/plain": [
       "25"
      ]
     },
     "execution_count": 5,
     "metadata": {},
     "output_type": "execute_result"
    }
   ],
   "source": [
    "data_file = '../../benchmark/cuchembm/csv_data/benchmark_MoleculeNet_Lipophilicity.csv'\n",
    "\n",
    "bm_input_data = pd.read_csv(data_file)\n",
    "bm_input_data.shape\n",
    "common_smiles = []\n",
    "for smiles in bm_input_data.SMILES:\n",
    "    result = conn.execute(\"Select count(*) from train_data where smiles = ?\", [smiles])\n",
    "    if result.fetchone()[0] > 0:\n",
    "        common_smiles.append(smiles)\n",
    "\n",
    "len(common_smiles)"
   ]
  },
  {
   "cell_type": "code",
   "execution_count": 6,
   "metadata": {},
   "outputs": [
    {
     "data": {
      "text/plain": [
       "324"
      ]
     },
     "execution_count": 6,
     "metadata": {},
     "output_type": "execute_result"
    }
   ],
   "source": [
    "data_file = '../../benchmark/cuchembm/csv_data/benchmark_MoleculeNet_ESOL.csv'\n",
    "\n",
    "bm_input_data = pd.read_csv(data_file)\n",
    "bm_input_data.shape\n",
    "common_smiles = []\n",
    "for smiles in bm_input_data.SMILES:\n",
    "    result = conn.execute(\"Select count(*) from train_data where smiles = ?\", [smiles])\n",
    "    if result.fetchone()[0] > 0:\n",
    "        common_smiles.append(smiles)\n",
    "\n",
    "len(common_smiles)"
   ]
  },
  {
   "cell_type": "code",
   "execution_count": 7,
   "metadata": {},
   "outputs": [
    {
     "data": {
      "text/plain": [
       "197"
      ]
     },
     "execution_count": 7,
     "metadata": {},
     "output_type": "execute_result"
    }
   ],
   "source": [
    "data_file = '../../benchmark/cuchembm/csv_data/benchmark_MoleculeNet_FreeSolv.csv'\n",
    "\n",
    "bm_input_data = pd.read_csv(data_file)\n",
    "bm_input_data.shape\n",
    "common_smiles = []\n",
    "for smiles in bm_input_data.SMILES:\n",
    "    result = conn.execute(\"Select count(*) from train_data where smiles = ?\", [smiles])\n",
    "    if result.fetchone()[0] > 0:\n",
    "        common_smiles.append(smiles)\n",
    "\n",
    "len(common_smiles)"
   ]
  }
 ],
 "metadata": {
  "interpreter": {
   "hash": "84f42c2ebc0c7af623f2a05f9408a5311063f491a34d2de2aff55359db7f74fb"
  },
  "kernelspec": {
   "display_name": "Python 3.8.10 64-bit ('rapids-21.06': conda)",
   "name": "python3"
  },
  "language_info": {
   "codemirror_mode": {
    "name": "ipython",
    "version": 3
   },
   "file_extension": ".py",
   "mimetype": "text/x-python",
   "name": "python",
   "nbconvert_exporter": "python",
   "pygments_lexer": "ipython3",
   "version": "3.8.10"
  },
  "orig_nbformat": 4
 },
 "nbformat": 4,
 "nbformat_minor": 2
}

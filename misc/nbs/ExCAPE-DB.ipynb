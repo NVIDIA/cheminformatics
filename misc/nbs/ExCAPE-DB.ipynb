{
 "cells": [
  {
   "cell_type": "markdown",
   "source": [
    "# Prereq\n",
    "This notebook was developed on RAPIDS 21.08. Please use conda env or container from https://rapids.ai/start.html#get-rapids\n",
    "\n",
    "# Setup\n",
    "Please execute the following cell the first time to install packages and download data."
   ],
   "metadata": {}
  },
  {
   "cell_type": "code",
   "execution_count": 37,
   "source": [
    "#!pip install biopython\n",
    "#!wget https://zenodo.org/record/2543724/files/pubchem.chembl.dataset4publication_inchi_smiles_v2.tsv.xz?download=1 -O pubchem.chembl.dataset4publication_inchi_smiles_v2.tsv.xz\n",
    "#!zstd -d pubchem.chembl.dataset4publication_inchi_smiles_v2.tsv.xz"
   ],
   "outputs": [],
   "metadata": {}
  },
  {
   "cell_type": "code",
   "execution_count": 38,
   "source": [
    "import cudf\n",
    "import cupy\n",
    "from Bio import Entrez\n",
    "from Bio.Entrez.Parser import ListElement\n",
    "import matplotlib.pyplot as plt\n",
    "import pandas as pd"
   ],
   "outputs": [],
   "metadata": {}
  },
  {
   "cell_type": "markdown",
   "source": [
    "Setup"
   ],
   "metadata": {}
  },
  {
   "cell_type": "code",
   "execution_count": 39,
   "source": [
    "# Please replace your email address here\n",
    "Entrez.email = \"rilango@nvidia.com\"\n",
    "data_file = '/rilango_data/data/ExcapeDB/data_v2.tsv'\n",
    "\n",
    "EC_CACHE = {}"
   ],
   "outputs": [],
   "metadata": {}
  },
  {
   "cell_type": "code",
   "execution_count": 40,
   "source": [
    "# This list is obtained from\n",
    "# Chemformer - A Pre-Trained Transformer for Computational Chemistry - Supplementary_info_supplement_1\n",
    "gene_list = [\"ABL1\", \"ACHE\", \"ADAM17\", \"ADORA2A\", \"ADORA2B\", \"ADORA3\", \"ADRA1A\", \"ADRA1D\", \n",
    "             \"ADRB1\", \"ADRB2\", \"ADRB3\", \"AKT1\", \"AKT2\", \"ALK\", \"ALOX5\", \"AR\", \"AURKA\", \n",
    "             \"AURKB\", \"BACE1\", \"CA1\", \"CA12\", \"CA2\", \"CA9\", \"CASP1\", \"CCKBR\", \"CCR2\", \n",
    "             \"CCR5\", \"CDK1\", \"CDK2\", \"CHEK1\", \"CHRM1\", \"CHRM2\", \"CHRM3\", \"CHRNA7\", \"CLK4\", \n",
    "             \"CNR1\", \"CNR2\", \"CRHR1\", \"CSF1R\", \"CTSK\", \"CTSS\", \"CYP19A1\", \"DHFR\", \"DPP4\", \n",
    "             \"DRD1\", \"DRD3\", \"DRD4\", \"DYRK1A\", \"EDNRA\", \"EGFR\", \"EPHX2\", \"ERBB2\", \"ESR1\", \n",
    "             \"ESR2\", \"F10\", \"F2\", \"FAAH\", \"FGFR1\", \"FLT1\", \"FLT3\", \"GHSR\", \"GNRHR\", \"GRM5\", \n",
    "             \"GSK3A\", \"GSK3B\", \"HDAC1\", \"HPGD\", \"HRH3\", \"HSD11B1\", \"HSP90AA1\", \"HTR2A\", \n",
    "             \"HTR2C\", \"HTR6\", \"HTR7\", \"IGF1R\", \"INSR\", \"ITK\", \"JAK2\", \"JAK3\", \"KCNH2\", \n",
    "             \"KDR\", \"KIT\", \"LCK\", \"MAOB\", \"MAPK14\", \"MAPK8\", \"MAPK9\", \"MAPKAPK2\", \"MC4R\", \n",
    "             \"MCHR1\", \"MET\", \"MMP1\", \"MMP13\", \"MMP2\", \"MMP3\", \"MMP9\", \"MTOR\", \"NPY5R\", \n",
    "             \"NR3C1\", \"NTRK1\", \"OPRD1\", \"OPRK1\", \"OPRL1\", \"OPRM1\", \"P2RX7\", \"PARP1\", \"PDE5A\", \n",
    "             \"PDGFRB\", \"PGR\", \"PIK3CA\", \"PIM1\", \"PIM2\", \"PLK1\", \"PPARA\", \"PPARD\", \"PPARG\", \n",
    "             \"PRKACA\", \"PRKCD\", \"PTGDR2\", \"PTGS2\", \"PTPN1\", \"REN\", \"ROCK1\", \"ROCK2\", \"S1PR1\", \n",
    "             \"SCN9A\", \"SIGMAR1\", \"SLC6A2\", \"SLC6A3\", \"SRC\", \"TACR1\", \"TRPV1\", \"VDR\"]"
   ],
   "outputs": [],
   "metadata": {}
  },
  {
   "cell_type": "code",
   "execution_count": 41,
   "source": [
    "def get_ec_num(rec):\n",
    "    \"\"\"\n",
    "    Helper function to extract EC number from record\n",
    "    \"\"\"\n",
    "    ecs = []\n",
    "\n",
    "    if isinstance(rec, ListElement):\n",
    "        for r in rec:\n",
    "            ecs.extend(get_ec_num(r))\n",
    "    elif 'Gene-commentary_label' in rec and rec['Gene-commentary_label'] == 'EC':\n",
    "        ecs.append(rec['Gene-commentary_text'])\n",
    "    elif 'Gene-commentary_comment' in rec:\n",
    "        ecs.extend(get_ec_num(rec['Gene-commentary_comment']))\n",
    "    elif 'Gene-commentary_products' in rec:\n",
    "        ecs.extend(get_ec_num(rec['Gene-commentary_products']))\n",
    "\n",
    "    return ecs\n",
    "\n",
    "def fetch_entrez_info(entrez_id):\n",
    "\n",
    "    if entrez_id not in EC_CACHE:\n",
    "        handle = Entrez.efetch(db=\"gene\", id=entrez_id, retmode = \"xml\")\n",
    "        recs = Entrez.read(handle)\n",
    "        ecs = []\n",
    "        for rec in recs:\n",
    "            for locus in rec['Entrezgene_locus']:\n",
    "                ecs.extend(get_ec_num(locus))\n",
    "\n",
    "        ecs = list(set(ecs))\n",
    "\n",
    "        EC_CACHE[entrez_id] = (str(ecs), recs[0]['Entrezgene_gene']['Gene-ref']['Gene-ref_desc'])\n",
    "\n",
    "    return EC_CACHE[entrez_id]"
   ],
   "outputs": [],
   "metadata": {}
  },
  {
   "cell_type": "code",
   "execution_count": 42,
   "source": [
    "# Load data. Here only required fields are loaded. Please use the wget command \n",
    "# in the first cell to download data. Please extract it before using it.\n",
    "data = cudf.read_csv(data_file,\n",
    "                     delimiter='\\t',\n",
    "                     usecols=['Entrez_ID', 'pXC50', 'Gene_Symbol'])\n",
    "data.shape"
   ],
   "outputs": [
    {
     "output_type": "execute_result",
     "data": {
      "text/plain": [
       "(70850163, 3)"
      ]
     },
     "metadata": {},
     "execution_count": 42
    }
   ],
   "metadata": {}
  },
  {
   "cell_type": "code",
   "execution_count": 43,
   "source": [
    "data = data[data.Gene_Symbol.isin(gene_list)]\n",
    "data.to_csv('Filtered_summary.csv')\n",
    "data['Cnt'] = cupy.zeros(data.shape[0])\n",
    "data.head()"
   ],
   "outputs": [
    {
     "output_type": "execute_result",
     "data": {
      "text/html": [
       "<div>\n",
       "<style scoped>\n",
       "    .dataframe tbody tr th:only-of-type {\n",
       "        vertical-align: middle;\n",
       "    }\n",
       "\n",
       "    .dataframe tbody tr th {\n",
       "        vertical-align: top;\n",
       "    }\n",
       "\n",
       "    .dataframe thead th {\n",
       "        text-align: right;\n",
       "    }\n",
       "</style>\n",
       "<table border=\"1\" class=\"dataframe\">\n",
       "  <thead>\n",
       "    <tr style=\"text-align: right;\">\n",
       "      <th></th>\n",
       "      <th>Entrez_ID</th>\n",
       "      <th>pXC50</th>\n",
       "      <th>Gene_Symbol</th>\n",
       "      <th>Cnt</th>\n",
       "    </tr>\n",
       "  </thead>\n",
       "  <tbody>\n",
       "    <tr>\n",
       "      <th>0</th>\n",
       "      <td>2064</td>\n",
       "      <td>7.19382</td>\n",
       "      <td>ERBB2</td>\n",
       "      <td>0.0</td>\n",
       "    </tr>\n",
       "    <tr>\n",
       "      <th>1</th>\n",
       "      <td>1956</td>\n",
       "      <td>6.73</td>\n",
       "      <td>EGFR</td>\n",
       "      <td>0.0</td>\n",
       "    </tr>\n",
       "    <tr>\n",
       "      <th>8</th>\n",
       "      <td>3248</td>\n",
       "      <td>4.85</td>\n",
       "      <td>HPGD</td>\n",
       "      <td>0.0</td>\n",
       "    </tr>\n",
       "    <tr>\n",
       "      <th>34</th>\n",
       "      <td>1128</td>\n",
       "      <td>&lt;NA&gt;</td>\n",
       "      <td>CHRM1</td>\n",
       "      <td>0.0</td>\n",
       "    </tr>\n",
       "    <tr>\n",
       "      <th>43</th>\n",
       "      <td>154</td>\n",
       "      <td>&lt;NA&gt;</td>\n",
       "      <td>ADRB2</td>\n",
       "      <td>0.0</td>\n",
       "    </tr>\n",
       "  </tbody>\n",
       "</table>\n",
       "</div>"
      ],
      "text/plain": [
       "    Entrez_ID    pXC50 Gene_Symbol  Cnt\n",
       "0        2064  7.19382       ERBB2  0.0\n",
       "1        1956     6.73        EGFR  0.0\n",
       "8        3248     4.85        HPGD  0.0\n",
       "34       1128     <NA>       CHRM1  0.0\n",
       "43        154     <NA>       ADRB2  0.0"
      ]
     },
     "metadata": {},
     "execution_count": 43
    }
   ],
   "metadata": {}
  },
  {
   "cell_type": "code",
   "execution_count": 44,
   "source": [
    "# Group by Entrez_ID and compute data for each Entrez_ID\n",
    "data = data.set_index(['Gene_Symbol', 'Entrez_ID'])\n",
    "grouped_df = data.groupby(level=['Entrez_ID', 'Gene_Symbol'])\n",
    "\n",
    "count_df = grouped_df.count()\n",
    "count_df.drop('pXC50', axis=1, inplace=True)\n",
    "count_df = count_df.sort_values('Cnt', ascending=False)\n",
    "count_df['pXC50_min'] = grouped_df.pXC50.min()\n",
    "count_df['pXC50_max'] = grouped_df.pXC50.max()\n",
    "summary = count_df.to_pandas()\n",
    "summary.head()"
   ],
   "outputs": [
    {
     "output_type": "execute_result",
     "data": {
      "text/html": [
       "<div>\n",
       "<style scoped>\n",
       "    .dataframe tbody tr th:only-of-type {\n",
       "        vertical-align: middle;\n",
       "    }\n",
       "\n",
       "    .dataframe tbody tr th {\n",
       "        vertical-align: top;\n",
       "    }\n",
       "\n",
       "    .dataframe thead th {\n",
       "        text-align: right;\n",
       "    }\n",
       "</style>\n",
       "<table border=\"1\" class=\"dataframe\">\n",
       "  <thead>\n",
       "    <tr style=\"text-align: right;\">\n",
       "      <th></th>\n",
       "      <th></th>\n",
       "      <th>Cnt</th>\n",
       "      <th>pXC50_min</th>\n",
       "      <th>pXC50_max</th>\n",
       "    </tr>\n",
       "    <tr>\n",
       "      <th>Entrez_ID</th>\n",
       "      <th>Gene_Symbol</th>\n",
       "      <th></th>\n",
       "      <th></th>\n",
       "      <th></th>\n",
       "    </tr>\n",
       "  </thead>\n",
       "  <tbody>\n",
       "    <tr>\n",
       "      <th>1814</th>\n",
       "      <th>DRD3</th>\n",
       "      <td>405348</td>\n",
       "      <td>3.10000</td>\n",
       "      <td>11.55280</td>\n",
       "    </tr>\n",
       "    <tr>\n",
       "      <th>7421</th>\n",
       "      <th>VDR</th>\n",
       "      <td>391988</td>\n",
       "      <td>3.21000</td>\n",
       "      <td>11.70000</td>\n",
       "    </tr>\n",
       "    <tr>\n",
       "      <th>6868</th>\n",
       "      <th>ADAM17</th>\n",
       "      <td>367067</td>\n",
       "      <td>3.74000</td>\n",
       "      <td>10.59000</td>\n",
       "    </tr>\n",
       "    <tr>\n",
       "      <th>15558</th>\n",
       "      <th>HTR2A</th>\n",
       "      <td>359985</td>\n",
       "      <td>4.11885</td>\n",
       "      <td>8.42022</td>\n",
       "    </tr>\n",
       "    <tr>\n",
       "      <th>1128</th>\n",
       "      <th>CHRM1</th>\n",
       "      <td>357391</td>\n",
       "      <td>2.21000</td>\n",
       "      <td>12.00000</td>\n",
       "    </tr>\n",
       "  </tbody>\n",
       "</table>\n",
       "</div>"
      ],
      "text/plain": [
       "                          Cnt  pXC50_min  pXC50_max\n",
       "Entrez_ID Gene_Symbol                              \n",
       "1814      DRD3         405348    3.10000   11.55280\n",
       "7421      VDR          391988    3.21000   11.70000\n",
       "6868      ADAM17       367067    3.74000   10.59000\n",
       "15558     HTR2A        359985    4.11885    8.42022\n",
       "1128      CHRM1        357391    2.21000   12.00000"
      ]
     },
     "metadata": {},
     "execution_count": 44
    }
   ],
   "metadata": {}
  },
  {
   "cell_type": "code",
   "execution_count": 45,
   "source": [
    "summary.head(), summary.shape, len(gene_list)\n",
    "summary = summary.sort_values(['Gene_Symbol', 'Entrez_ID'], ascending=True)\n",
    "summary"
   ],
   "outputs": [
    {
     "output_type": "execute_result",
     "data": {
      "text/html": [
       "<div>\n",
       "<style scoped>\n",
       "    .dataframe tbody tr th:only-of-type {\n",
       "        vertical-align: middle;\n",
       "    }\n",
       "\n",
       "    .dataframe tbody tr th {\n",
       "        vertical-align: top;\n",
       "    }\n",
       "\n",
       "    .dataframe thead th {\n",
       "        text-align: right;\n",
       "    }\n",
       "</style>\n",
       "<table border=\"1\" class=\"dataframe\">\n",
       "  <thead>\n",
       "    <tr style=\"text-align: right;\">\n",
       "      <th></th>\n",
       "      <th></th>\n",
       "      <th>Cnt</th>\n",
       "      <th>pXC50_min</th>\n",
       "      <th>pXC50_max</th>\n",
       "    </tr>\n",
       "    <tr>\n",
       "      <th>Entrez_ID</th>\n",
       "      <th>Gene_Symbol</th>\n",
       "      <th></th>\n",
       "      <th></th>\n",
       "      <th></th>\n",
       "    </tr>\n",
       "  </thead>\n",
       "  <tbody>\n",
       "    <tr>\n",
       "      <th>25</th>\n",
       "      <th>ABL1</th>\n",
       "      <td>2015</td>\n",
       "      <td>3.41</td>\n",
       "      <td>10.8000</td>\n",
       "    </tr>\n",
       "    <tr>\n",
       "      <th>43</th>\n",
       "      <th>ACHE</th>\n",
       "      <td>3044</td>\n",
       "      <td>1.30</td>\n",
       "      <td>11.7700</td>\n",
       "    </tr>\n",
       "    <tr>\n",
       "      <th>11423</th>\n",
       "      <th>ACHE</th>\n",
       "      <td>226</td>\n",
       "      <td>2.46</td>\n",
       "      <td>12.3900</td>\n",
       "    </tr>\n",
       "    <tr>\n",
       "      <th>83817</th>\n",
       "      <th>ACHE</th>\n",
       "      <td>1042</td>\n",
       "      <td>1.32</td>\n",
       "      <td>11.0500</td>\n",
       "    </tr>\n",
       "    <tr>\n",
       "      <th>6868</th>\n",
       "      <th>ADAM17</th>\n",
       "      <td>367067</td>\n",
       "      <td>3.74</td>\n",
       "      <td>10.5900</td>\n",
       "    </tr>\n",
       "    <tr>\n",
       "      <th>...</th>\n",
       "      <th>...</th>\n",
       "      <td>...</td>\n",
       "      <td>...</td>\n",
       "      <td>...</td>\n",
       "    </tr>\n",
       "    <tr>\n",
       "      <th>7442</th>\n",
       "      <th>TRPV1</th>\n",
       "      <td>316003</td>\n",
       "      <td>2.78</td>\n",
       "      <td>12.0000</td>\n",
       "    </tr>\n",
       "    <tr>\n",
       "      <th>83810</th>\n",
       "      <th>TRPV1</th>\n",
       "      <td>1134</td>\n",
       "      <td>3.64</td>\n",
       "      <td>10.7000</td>\n",
       "    </tr>\n",
       "    <tr>\n",
       "      <th>7421</th>\n",
       "      <th>VDR</th>\n",
       "      <td>391988</td>\n",
       "      <td>3.21</td>\n",
       "      <td>11.7000</td>\n",
       "    </tr>\n",
       "    <tr>\n",
       "      <th>22337</th>\n",
       "      <th>VDR</th>\n",
       "      <td>22</td>\n",
       "      <td>8.35</td>\n",
       "      <td>11.6800</td>\n",
       "    </tr>\n",
       "    <tr>\n",
       "      <th>24873</th>\n",
       "      <th>VDR</th>\n",
       "      <td>53</td>\n",
       "      <td>5.00</td>\n",
       "      <td>11.1549</td>\n",
       "    </tr>\n",
       "  </tbody>\n",
       "</table>\n",
       "<p>249 rows × 3 columns</p>\n",
       "</div>"
      ],
      "text/plain": [
       "                          Cnt  pXC50_min  pXC50_max\n",
       "Entrez_ID Gene_Symbol                              \n",
       "25        ABL1           2015       3.41    10.8000\n",
       "43        ACHE           3044       1.30    11.7700\n",
       "11423     ACHE            226       2.46    12.3900\n",
       "83817     ACHE           1042       1.32    11.0500\n",
       "6868      ADAM17       367067       3.74    10.5900\n",
       "...                       ...        ...        ...\n",
       "7442      TRPV1        316003       2.78    12.0000\n",
       "83810     TRPV1          1134       3.64    10.7000\n",
       "7421      VDR          391988       3.21    11.7000\n",
       "22337     VDR              22       8.35    11.6800\n",
       "24873     VDR              53       5.00    11.1549\n",
       "\n",
       "[249 rows x 3 columns]"
      ]
     },
     "metadata": {},
     "execution_count": 45
    }
   ],
   "metadata": {}
  },
  {
   "cell_type": "markdown",
   "source": [
    "Following code uses Entrez_ID to query NCBI DB to fetch EC number. This may take \n",
    "a while to fetch all EC numbers."
   ],
   "metadata": {}
  },
  {
   "cell_type": "code",
   "execution_count": 46,
   "source": [
    "# Fetch EC numbers using BioPython\n",
    "# data = data[data.Gene_Symbol.isin(gene_list)]\n",
    "\n",
    "all_ecs = []\n",
    "names = []\n",
    "for entrez_id in summary.index.get_level_values('Entrez_ID'):\n",
    "    ecs, desc = fetch_entrez_info(entrez_id)\n",
    "    all_ecs.append(ecs)\n",
    "    names.append(desc)\n",
    "\n",
    "summary['EC'] = all_ecs\n",
    "summary['name'] = names\n",
    "\n",
    "summary = summary[['name', 'EC', 'Cnt', 'pXC50_min',\t'pXC50_max']]\n",
    "summary = summary.sort_values(['Cnt'], ascending=True)\n",
    "summary.to_csv('Gene-Entrez_ID-wise_summary.csv')\n",
    "summary.head()"
   ],
   "outputs": [],
   "metadata": {}
  },
  {
   "cell_type": "markdown",
   "source": [
    "Plot the histgram visializing density of count."
   ],
   "metadata": {}
  },
  {
   "cell_type": "code",
   "execution_count": null,
   "source": [
    "# summary = pd.read_csv('summary.csv')\n",
    "plt.hist(summary['Cnt'].values, 10, facecolor='g', alpha=0.50)\n",
    "plt.xlabel('Count')\n",
    "plt.ylabel('Density')\n",
    "plt.grid(True)\n",
    "plt.show()"
   ],
   "outputs": [
    {
     "output_type": "display_data",
     "data": {
      "image/png": "[encoded data removed]",
      "text/plain": [
       "<Figure size 432x288 with 1 Axes>"
      ]
     },
     "metadata": {
      "needs_background": "light"
     }
    }
   ],
   "metadata": {}
  }
 ],
 "metadata": {
  "orig_nbformat": 4,
  "language_info": {
   "name": "python",
   "version": "3.8.12",
   "mimetype": "text/x-python",
   "codemirror_mode": {
    "name": "ipython",
    "version": 3
   },
   "pygments_lexer": "ipython3",
   "nbconvert_exporter": "python",
   "file_extension": ".py"
  },
  "kernelspec": {
   "name": "python3",
   "display_name": "Python 3.8.12 64-bit ('rapids-21.08': conda)"
  },
  "interpreter": {
   "hash": "b90a4e46026310f8420099320d1046f1132461c192150e66ea0ab57866c21c20"
  }
 },
 "nbformat": 4,
 "nbformat_minor": 2
}
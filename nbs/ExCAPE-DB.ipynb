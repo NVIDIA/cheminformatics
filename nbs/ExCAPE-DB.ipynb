{
 "cells": [
  {
   "cell_type": "markdown",
   "source": [
    "# Prereq\n",
    "This notebook was developed on RAPIDS 21.08. Please use conda env or container from https://rapids.ai/start.html#get-rapids\n",
    "\n",
    "# Setup\n",
    "Please execute the following cell the first time to install packages and download data."
   ],
   "metadata": {}
  },
  {
   "cell_type": "code",
   "execution_count": 24,
   "source": [
    "#!pip install biopython\n",
    "#!wget https://zenodo.org/record/2543724/files/pubchem.chembl.dataset4publication_inchi_smiles_v2.tsv.xz?download=1 -O pubchem.chembl.dataset4publication_inchi_smiles_v2.tsv.xz\n",
    "#!zstd -d pubchem.chembl.dataset4publication_inchi_smiles_v2.tsv.xz"
   ],
   "outputs": [],
   "metadata": {}
  },
  {
   "cell_type": "code",
   "execution_count": 25,
   "source": [
    "import cudf\n",
    "from Bio import Entrez\n",
    "from Bio.Entrez.Parser import ListElement\n",
    "import matplotlib.pyplot as plt\n",
    "import pandas as pd"
   ],
   "outputs": [],
   "metadata": {}
  },
  {
   "cell_type": "markdown",
   "source": [
    "Setup"
   ],
   "metadata": {}
  },
  {
   "cell_type": "code",
   "execution_count": 26,
   "source": [
    "# Please replace your email address here\n",
    "Entrez.email = \"PLEASE ENTER YOUR EMAIL HERE\"\n",
    "data_file = 'data_v2.tsv'"
   ],
   "outputs": [],
   "metadata": {}
  },
  {
   "cell_type": "code",
   "execution_count": 27,
   "source": [
    "# This list is obtained from\n",
    "# Chemformer - A Pre-Trained Transformer for Computational Chemistry - Supplementary_info_supplement_1\n",
    "gene_list = [\"ABL1\", \"ACHE\", \"ADAM17\", \"ADORA2A\", \"ADORA2B\", \"ADORA3\", \"ADRA1A\", \"ADRA1D\", \n",
    "             \"ADRB1\", \"ADRB2\", \"ADRB3\", \"AKT1\", \"AKT2\", \"ALK\", \"ALOX5\", \"AR\", \"AURKA\", \n",
    "             \"AURKB\", \"BACE1\", \"CA1\", \"CA12\", \"CA2\", \"CA9\", \"CASP1\", \"CCKBR\", \"CCR2\", \n",
    "             \"CCR5\", \"CDK1\", \"CDK2\", \"CHEK1\", \"CHRM1\", \"CHRM2\", \"CHRM3\", \"CHRNA7\", \"CLK4\", \n",
    "             \"CNR1\", \"CNR2\", \"CRHR1\", \"CSF1R\", \"CTSK\", \"CTSS\", \"CYP19A1\", \"DHFR\", \"DPP4\", \n",
    "             \"DRD1\", \"DRD3\", \"DRD4\", \"DYRK1A\", \"EDNRA\", \"EGFR\", \"EPHX2\", \"ERBB2\", \"ESR1\", \n",
    "             \"ESR2\", \"F10\", \"F2\", \"FAAH\", \"FGFR1\", \"FLT1\", \"FLT3\", \"GHSR\", \"GNRHR\", \"GRM5\", \n",
    "             \"GSK3A\", \"GSK3B\", \"HDAC1\", \"HPGD\", \"HRH3\", \"HSD11B1\", \"HSP90AA1\", \"HTR2A\", \n",
    "             \"HTR2C\", \"HTR6\", \"HTR7\", \"IGF1R\", \"INSR\", \"ITK\", \"JAK2\", \"JAK3\", \"KCNH2\", \n",
    "             \"KDR\", \"KIT\", \"LCK\", \"MAOB\", \"MAPK14\", \"MAPK8\", \"MAPK9\", \"MAPKAPK2\", \"MC4R\", \n",
    "             \"MCHR1\", \"MET\", \"MMP1\", \"MMP13\", \"MMP2\", \"MMP3\", \"MMP9\", \"MTOR\", \"NPY5R\", \n",
    "             \"NR3C1\", \"NTRK1\", \"OPRD1\", \"OPRK1\", \"OPRL1\", \"OPRM1\", \"P2RX7\", \"PARP1\", \"PDE5A\", \n",
    "             \"PDGFRB\", \"PGR\", \"PIK3CA\", \"PIM1\", \"PIM2\", \"PLK1\", \"PPARA\", \"PPARD\", \"PPARG\", \n",
    "             \"PRKACA\", \"PRKCD\", \"PTGDR2\", \"PTGS2\", \"PTPN1\", \"REN\", \"ROCK1\", \"ROCK2\", \"S1PR1\", \n",
    "             \"SCN9A\", \"SIGMAR1\", \"SLC6A2\", \"SLC6A3\", \"SRC\", \"TACR1\", \"TRPV1\", \"VDR\"]"
   ],
   "outputs": [],
   "metadata": {}
  },
  {
   "cell_type": "code",
   "execution_count": 28,
   "source": [
    "def get_ec_num(rec):\n",
    "    \"\"\"\n",
    "    Helper function to extract EC number from record\n",
    "    \"\"\"\n",
    "    ecs = []\n",
    "\n",
    "    if isinstance(rec, ListElement):\n",
    "        for r in rec:\n",
    "            ecs.extend(get_ec_num(r))\n",
    "    elif 'Gene-commentary_label' in rec and rec['Gene-commentary_label'] == 'EC':\n",
    "        ecs.append(rec['Gene-commentary_text'])\n",
    "    elif 'Gene-commentary_comment' in rec:\n",
    "        ecs.extend(get_ec_num(rec['Gene-commentary_comment']))\n",
    "    elif 'Gene-commentary_products' in rec:\n",
    "        ecs.extend(get_ec_num(rec['Gene-commentary_products']))\n",
    "\n",
    "    return ecs"
   ],
   "outputs": [],
   "metadata": {}
  },
  {
   "cell_type": "code",
   "execution_count": 29,
   "source": [
    "# Load data. Here only required fields are loaded. Please use the wget command \n",
    "# in the first cell to download data. Please extract it before using it.\n",
    "data = cudf.read_csv(data_file,\n",
    "                     delimiter='\\t',\n",
    "                     usecols=['Entrez_ID', 'pXC50'])"
   ],
   "outputs": [],
   "metadata": {}
  },
  {
   "cell_type": "code",
   "execution_count": 30,
   "source": [
    "# Set Entrez_ID as index for ease\n",
    "data['Cnt'] = data['Entrez_ID']\n",
    "data_indexed = data.set_index('Entrez_ID')\n",
    "\n",
    "# Group by Entrez_ID and compute data for each Entrez_ID\n",
    "entrez_id_count = data_indexed.groupby(level='Entrez_ID')\n",
    "\n",
    "count_df = entrez_id_count.count()\n",
    "count_df = count_df.sort_values('Cnt', ascending=False)\n",
    "count_df['pXC50_min'] = entrez_id_count.pXC50.min()\n",
    "count_df['pXC50_max'] = entrez_id_count.pXC50.max()\n",
    "count_df.drop('pXC50', axis=1, inplace=True)\n",
    "summary = count_df.to_pandas()\n",
    "# summary = summary.iloc[:10]\n",
    "summary.head()\n"
   ],
   "outputs": [
    {
     "output_type": "execute_result",
     "data": {
      "text/html": [
       "<div>\n",
       "<style scoped>\n",
       "    .dataframe tbody tr th:only-of-type {\n",
       "        vertical-align: middle;\n",
       "    }\n",
       "\n",
       "    .dataframe tbody tr th {\n",
       "        vertical-align: top;\n",
       "    }\n",
       "\n",
       "    .dataframe thead th {\n",
       "        text-align: right;\n",
       "    }\n",
       "</style>\n",
       "<table border=\"1\" class=\"dataframe\">\n",
       "  <thead>\n",
       "    <tr style=\"text-align: right;\">\n",
       "      <th></th>\n",
       "      <th>Cnt</th>\n",
       "      <th>pXC50_min</th>\n",
       "      <th>pXC50_max</th>\n",
       "    </tr>\n",
       "    <tr>\n",
       "      <th>Entrez_ID</th>\n",
       "      <th></th>\n",
       "      <th></th>\n",
       "      <th></th>\n",
       "    </tr>\n",
       "  </thead>\n",
       "  <tbody>\n",
       "    <tr>\n",
       "      <th>3417</th>\n",
       "      <td>466456</td>\n",
       "      <td>4.00</td>\n",
       "      <td>8.74000</td>\n",
       "    </tr>\n",
       "    <tr>\n",
       "      <th>1080</th>\n",
       "      <td>456865</td>\n",
       "      <td>3.31</td>\n",
       "      <td>8.46000</td>\n",
       "    </tr>\n",
       "    <tr>\n",
       "      <th>4780</th>\n",
       "      <td>409655</td>\n",
       "      <td>4.01</td>\n",
       "      <td>9.30000</td>\n",
       "    </tr>\n",
       "    <tr>\n",
       "      <th>2740</th>\n",
       "      <td>409127</td>\n",
       "      <td>4.00</td>\n",
       "      <td>8.03621</td>\n",
       "    </tr>\n",
       "    <tr>\n",
       "      <th>1814</th>\n",
       "      <td>405348</td>\n",
       "      <td>3.10</td>\n",
       "      <td>11.55280</td>\n",
       "    </tr>\n",
       "  </tbody>\n",
       "</table>\n",
       "</div>"
      ],
      "text/plain": [
       "              Cnt  pXC50_min  pXC50_max\n",
       "Entrez_ID                              \n",
       "3417       466456       4.00    8.74000\n",
       "1080       456865       3.31    8.46000\n",
       "4780       409655       4.01    9.30000\n",
       "2740       409127       4.00    8.03621\n",
       "1814       405348       3.10   11.55280"
      ]
     },
     "metadata": {},
     "execution_count": 30
    }
   ],
   "metadata": {}
  },
  {
   "cell_type": "markdown",
   "source": [
    "Following code uses Entrez_ID to query NCBI DB to fetch EC number. This may take \n",
    "a while to fetch all EC numbers."
   ],
   "metadata": {}
  },
  {
   "cell_type": "code",
   "execution_count": 31,
   "source": [
    "# Fetch EC numbers using BioPython\n",
    "all_ecs = []\n",
    "names = []\n",
    "gene_code = []\n",
    "for entrez_id in summary.index.values:\n",
    "    handle = Entrez.efetch(db=\"gene\", id=entrez_id, retmode = \"xml\")\n",
    "    recs = Entrez.read(handle)\n",
    "    ecs = []\n",
    "    for rec in recs:\n",
    "        for locus in rec['Entrezgene_locus']:\n",
    "            ecs.extend(get_ec_num(locus))\n",
    "\n",
    "    ecs = list(set(ecs))\n",
    "    all_ecs.append(str(ecs))\n",
    "    names.append(recs[0]['Entrezgene_gene']['Gene-ref']['Gene-ref_desc'])\n",
    "    gene_code.append(recs[0]['Entrezgene_gene']['Gene-ref']['Gene-ref_locus'])\n",
    "\n",
    "summary['EC'] = all_ecs\n",
    "summary['name'] = names\n",
    "summary['gene_code'] = gene_code\n",
    "\n",
    "# Filter out records with gene_list from \n",
    "summary = summary[summary.gene_code.isin(gene_list)]\n",
    "summary = summary[['gene_code', 'Entrez_ID', 'name', 'EC', 'Cnt', 'pXC50_min',\t'pXC50_max']]\n",
    "summary.to_csv('summary.csv')\n",
    "summary.head()"
   ],
   "outputs": [
    {
     "output_type": "execute_result",
     "data": {
      "text/html": [
       "<div>\n",
       "<style scoped>\n",
       "    .dataframe tbody tr th:only-of-type {\n",
       "        vertical-align: middle;\n",
       "    }\n",
       "\n",
       "    .dataframe tbody tr th {\n",
       "        vertical-align: top;\n",
       "    }\n",
       "\n",
       "    .dataframe thead th {\n",
       "        text-align: right;\n",
       "    }\n",
       "</style>\n",
       "<table border=\"1\" class=\"dataframe\">\n",
       "  <thead>\n",
       "    <tr style=\"text-align: right;\">\n",
       "      <th></th>\n",
       "      <th>Cnt</th>\n",
       "      <th>pXC50_min</th>\n",
       "      <th>pXC50_max</th>\n",
       "      <th>EC</th>\n",
       "      <th>name</th>\n",
       "      <th>gene_code</th>\n",
       "    </tr>\n",
       "    <tr>\n",
       "      <th>Entrez_ID</th>\n",
       "      <th></th>\n",
       "      <th></th>\n",
       "      <th></th>\n",
       "      <th></th>\n",
       "      <th></th>\n",
       "      <th></th>\n",
       "    </tr>\n",
       "  </thead>\n",
       "  <tbody>\n",
       "    <tr>\n",
       "      <th>1814</th>\n",
       "      <td>405348</td>\n",
       "      <td>3.10</td>\n",
       "      <td>11.5528</td>\n",
       "      <td>[]</td>\n",
       "      <td>dopamine receptor D3</td>\n",
       "      <td>DRD3</td>\n",
       "    </tr>\n",
       "    <tr>\n",
       "      <th>7421</th>\n",
       "      <td>391988</td>\n",
       "      <td>3.21</td>\n",
       "      <td>11.7000</td>\n",
       "      <td>[]</td>\n",
       "      <td>vitamin D receptor</td>\n",
       "      <td>VDR</td>\n",
       "    </tr>\n",
       "    <tr>\n",
       "      <th>6868</th>\n",
       "      <td>367067</td>\n",
       "      <td>3.74</td>\n",
       "      <td>10.5900</td>\n",
       "      <td>['3.4.24.86']</td>\n",
       "      <td>ADAM metallopeptidase domain 17</td>\n",
       "      <td>ADAM17</td>\n",
       "    </tr>\n",
       "    <tr>\n",
       "      <th>1128</th>\n",
       "      <td>357391</td>\n",
       "      <td>2.21</td>\n",
       "      <td>12.0000</td>\n",
       "      <td>[]</td>\n",
       "      <td>cholinergic receptor muscarinic 1</td>\n",
       "      <td>CHRM1</td>\n",
       "    </tr>\n",
       "    <tr>\n",
       "      <th>1812</th>\n",
       "      <td>357254</td>\n",
       "      <td>3.40</td>\n",
       "      <td>10.0000</td>\n",
       "      <td>[]</td>\n",
       "      <td>dopamine receptor D1</td>\n",
       "      <td>DRD1</td>\n",
       "    </tr>\n",
       "  </tbody>\n",
       "</table>\n",
       "</div>"
      ],
      "text/plain": [
       "              Cnt  pXC50_min  pXC50_max             EC  \\\n",
       "Entrez_ID                                                \n",
       "1814       405348       3.10    11.5528             []   \n",
       "7421       391988       3.21    11.7000             []   \n",
       "6868       367067       3.74    10.5900  ['3.4.24.86']   \n",
       "1128       357391       2.21    12.0000             []   \n",
       "1812       357254       3.40    10.0000             []   \n",
       "\n",
       "                                        name gene_code  \n",
       "Entrez_ID                                               \n",
       "1814                    dopamine receptor D3      DRD3  \n",
       "7421                      vitamin D receptor       VDR  \n",
       "6868         ADAM metallopeptidase domain 17    ADAM17  \n",
       "1128       cholinergic receptor muscarinic 1     CHRM1  \n",
       "1812                    dopamine receptor D1      DRD1  "
      ]
     },
     "metadata": {},
     "execution_count": 31
    }
   ],
   "metadata": {}
  },
  {
   "cell_type": "markdown",
   "source": [
    "Plot the histgram visializing density of count."
   ],
   "metadata": {}
  },
  {
   "cell_type": "code",
   "execution_count": 36,
   "source": [
    "summary = pd.read_csv('summary.csv')\n",
    "plt.hist(summary['Cnt'].values, 10, facecolor='g', alpha=0.50)\n",
    "plt.xlabel('Count')\n",
    "plt.ylabel('Density')\n",
    "plt.grid(True)\n",
    "plt.show()"
   ],
   "outputs": [
    {
     "output_type": "display_data",
     "data": {
      "image/png": "[encoded data removed]",
      "text/plain": [
       "<Figure size 432x288 with 1 Axes>"
      ]
     },
     "metadata": {
      "needs_background": "light"
     }
    }
   ],
   "metadata": {}
  }
 ],
 "metadata": {
  "orig_nbformat": 4,
  "language_info": {
   "name": "python",
   "version": "3.8.12",
   "mimetype": "text/x-python",
   "codemirror_mode": {
    "name": "ipython",
    "version": 3
   },
   "pygments_lexer": "ipython3",
   "nbconvert_exporter": "python",
   "file_extension": ".py"
  },
  "kernelspec": {
   "name": "python3",
   "display_name": "Python 3.8.12 64-bit ('rapids-21.08': conda)"
  },
  "interpreter": {
   "hash": "b90a4e46026310f8420099320d1046f1132461c192150e66ea0ab57866c21c20"
  }
 },
 "nbformat": 4,
 "nbformat_minor": 2
}
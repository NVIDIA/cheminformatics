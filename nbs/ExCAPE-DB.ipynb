{
 "cells": [
  {
   "cell_type": "markdown",
   "source": [
    "# Prereq\n",
    "This notebook was developed on RAPIDS 21.08. Please use conda env or container from https://rapids.ai/start.html#get-rapids\n",
    "\n",
    "# Setup\n",
    "Please execute the following cell the first time to install packages and download data."
   ],
   "metadata": {}
  },
  {
   "cell_type": "code",
   "execution_count": null,
   "source": [
    "#!pip install biopython\n",
    "#!wget https://zenodo.org/record/2543724/files/pubchem.chembl.dataset4publication_inchi_smiles_v2.tsv.xz?download=1 -O pubchem.chembl.dataset4publication_inchi_smiles_v2.tsv.xz"
   ],
   "outputs": [],
   "metadata": {}
  },
  {
   "cell_type": "code",
   "execution_count": 1,
   "source": [
    "import cudf\n",
    "from Bio import Entrez\n",
    "from Bio.Entrez.Parser import ListElement\n",
    "import matplotlib.pyplot as plt\n",
    "import pandas as pd"
   ],
   "outputs": [],
   "metadata": {}
  },
  {
   "cell_type": "code",
   "execution_count": 2,
   "source": [
    "def get_ec_num(rec):\n",
    "    \"\"\"\n",
    "    Helper function to extract EC number from record\n",
    "    \"\"\"\n",
    "    ecs = []\n",
    "\n",
    "    if isinstance(rec, ListElement):\n",
    "        for r in rec:\n",
    "            ecs.extend(get_ec_num(r))\n",
    "    elif 'Gene-commentary_label' in rec and rec['Gene-commentary_label'] == 'EC':\n",
    "        ecs.append(rec['Gene-commentary_text'])\n",
    "    elif 'Gene-commentary_comment' in rec:\n",
    "        ecs.extend(get_ec_num(rec['Gene-commentary_comment']))\n",
    "    elif 'Gene-commentary_products' in rec:\n",
    "        ecs.extend(get_ec_num(rec['Gene-commentary_products']))\n",
    "\n",
    "    return ecs"
   ],
   "outputs": [],
   "metadata": {}
  },
  {
   "cell_type": "code",
   "execution_count": 4,
   "source": [
    "# Load data. Here only required fields are loaded. Please use the wget command \n",
    "# in the first cell to download data. Please extract it before using it.\n",
    "data = cudf.read_csv('data_v2.tsv',\n",
    "                     delimiter='\\t',\n",
    "                     usecols=['Entrez_ID', 'pXC50'])"
   ],
   "outputs": [],
   "metadata": {}
  },
  {
   "cell_type": "code",
   "execution_count": 10,
   "source": [
    "# Set Entrez_ID as index for ease\n",
    "data['Cnt'] = data['Entrez_ID']\n",
    "data_indexed = data.set_index('Entrez_ID')\n",
    "\n",
    "# Group by Entrez_ID and compute data for each Entrez_ID\n",
    "entrez_id_count = data_indexed.groupby(level='Entrez_ID')\n",
    "\n",
    "count_df = entrez_id_count.count()\n",
    "count_df = count_df.sort_values('Cnt', ascending=False)\n",
    "count_df['pXC50_min'] = entrez_id_count.pXC50.min()\n",
    "count_df['pXC50_max'] = entrez_id_count.pXC50.max()\n",
    "count_df.drop('pXC50', axis=1, inplace=True)\n",
    "summary = count_df.to_pandas()\n",
    "# summary = summary.iloc[:10]\n",
    "summary.head()\n"
   ],
   "outputs": [
    {
     "output_type": "execute_result",
     "data": {
      "text/html": [
       "<div>\n",
       "<style scoped>\n",
       "    .dataframe tbody tr th:only-of-type {\n",
       "        vertical-align: middle;\n",
       "    }\n",
       "\n",
       "    .dataframe tbody tr th {\n",
       "        vertical-align: top;\n",
       "    }\n",
       "\n",
       "    .dataframe thead th {\n",
       "        text-align: right;\n",
       "    }\n",
       "</style>\n",
       "<table border=\"1\" class=\"dataframe\">\n",
       "  <thead>\n",
       "    <tr style=\"text-align: right;\">\n",
       "      <th></th>\n",
       "      <th>Cnt</th>\n",
       "      <th>pXC50_min</th>\n",
       "      <th>pXC50_max</th>\n",
       "    </tr>\n",
       "    <tr>\n",
       "      <th>Entrez_ID</th>\n",
       "      <th></th>\n",
       "      <th></th>\n",
       "      <th></th>\n",
       "    </tr>\n",
       "  </thead>\n",
       "  <tbody>\n",
       "    <tr>\n",
       "      <th>3417</th>\n",
       "      <td>466456</td>\n",
       "      <td>4.00</td>\n",
       "      <td>8.74000</td>\n",
       "    </tr>\n",
       "    <tr>\n",
       "      <th>1080</th>\n",
       "      <td>456865</td>\n",
       "      <td>3.31</td>\n",
       "      <td>8.46000</td>\n",
       "    </tr>\n",
       "    <tr>\n",
       "      <th>4780</th>\n",
       "      <td>409655</td>\n",
       "      <td>4.01</td>\n",
       "      <td>9.30000</td>\n",
       "    </tr>\n",
       "    <tr>\n",
       "      <th>2740</th>\n",
       "      <td>409127</td>\n",
       "      <td>4.00</td>\n",
       "      <td>8.03621</td>\n",
       "    </tr>\n",
       "    <tr>\n",
       "      <th>1814</th>\n",
       "      <td>405348</td>\n",
       "      <td>3.10</td>\n",
       "      <td>11.55280</td>\n",
       "    </tr>\n",
       "  </tbody>\n",
       "</table>\n",
       "</div>"
      ],
      "text/plain": [
       "              Cnt  pXC50_min  pXC50_max\n",
       "Entrez_ID                              \n",
       "3417       466456       4.00    8.74000\n",
       "1080       456865       3.31    8.46000\n",
       "4780       409655       4.01    9.30000\n",
       "2740       409127       4.00    8.03621\n",
       "1814       405348       3.10   11.55280"
      ]
     },
     "metadata": {},
     "execution_count": 10
    }
   ],
   "metadata": {}
  },
  {
   "cell_type": "markdown",
   "source": [
    "Following code uses Entrez_ID to query NCBI DB to fetch EC number. This may take \n",
    "a while to fetch all EC numbers."
   ],
   "metadata": {}
  },
  {
   "cell_type": "code",
   "execution_count": null,
   "source": [
    "# Fetch EC numbers using BioPython\n",
    "# Please replace your email address here\n",
    "Entrez.email = \"PLEASE ENTER YOUR EMAIL HERE\"\n",
    "all_ecs = []\n",
    "names = []\n",
    "for entrez_id in summary.index.values:\n",
    "    handle = Entrez.efetch(db=\"gene\", id=entrez_id, retmode = \"xml\")\n",
    "    recs = Entrez.read(handle)\n",
    "    ecs = []\n",
    "    for rec in recs:\n",
    "        for locus in rec['Entrezgene_locus']:\n",
    "            ecs.extend(get_ec_num(locus))\n",
    "\n",
    "    ecs = list(set(ecs))\n",
    "    all_ecs.append(str(ecs))\n",
    "    names.append(recs[0]['Entrezgene_gene']['Gene-ref']['Gene-ref_desc'])\n",
    "\n",
    "summary['EC'] = all_ecs\n",
    "summary['name'] = names\n",
    "\n",
    "summary.to_csv('summary.csv')\n",
    "summary.head()"
   ],
   "outputs": [],
   "metadata": {}
  },
  {
   "cell_type": "markdown",
   "source": [
    "Plot the histgram for occurance"
   ],
   "metadata": {}
  },
  {
   "cell_type": "code",
   "execution_count": 73,
   "source": [
    "summary = pd.read_csv('summary.csv')\n",
    "plt.hist(summary['Cnt'].values, 10, facecolor='g', alpha=0.50)\n",
    "plt.xlabel('Count')\n",
    "plt.ylabel('Occurances')\n",
    "plt.grid(True)\n",
    "plt.show()"
   ],
   "outputs": [
    {
     "output_type": "display_data",
     "data": {
      "image/png": "[encoded data removed]",
      "text/plain": [
       "<Figure size 640x480 with 1 Axes>"
      ]
     },
     "metadata": {}
    }
   ],
   "metadata": {}
  }
 ],
 "metadata": {
  "orig_nbformat": 4,
  "language_info": {
   "name": "python",
   "version": "3.8.10",
   "mimetype": "text/x-python",
   "codemirror_mode": {
    "name": "ipython",
    "version": 3
   },
   "pygments_lexer": "ipython3",
   "nbconvert_exporter": "python",
   "file_extension": ".py"
  },
  "kernelspec": {
   "name": "python3",
   "display_name": "Python 3.8.10 64-bit ('rapids-21.06': conda)"
  },
  "interpreter": {
   "hash": "9a30621ebd733bb6b197c4349aa0f92894d0144495d5d4734ddef43e03c1853b"
  }
 },
 "nbformat": 4,
 "nbformat_minor": 2
}